{
 "cells": [
  {
   "cell_type": "markdown",
   "id": "874467a9",
   "metadata": {},
   "source": [
    "# Medical Cost Personal Insurance Datasets\n",
    "\n",
    "\n",
    "\n",
    "Problem Statement:\n",
    "\n",
    "\n",
    "\n",
    "Insurance Forecast by using Linear Regression\n",
    "\n",
    "\n",
    "\n",
    "\n",
    "Health insurance is a type of insurance that covers medical expenses that arise due to an illness. These expenses could be related to hospitalisation costs, cost of medicines or doctor consultation fees. The main purpose of medical insurance is to receive the best medical care without any strain on your finances. Health insurance plans offer protection against high medical costs. It covers hospitalization expenses, day care procedures, domiciliary expenses, and ambulance charges, besides many others. Based on certain input features such as age , bmi,,no of dependents ,smoker ,region  medical insurance is calculated .\n",
    "\n",
    "\n",
    "\n",
    "\n",
    "Columns                                            \n",
    "\n",
    "·  age: age of primary beneficiary\n",
    "\n",
    "· sex: insurance contractor gender, female, male\n",
    "\n",
    "· bmi: Body mass index, providing an understanding of body, weights that are relatively high or low relative to height, objective index of body weight (kg / m ^ 2) using the ratio of height to weight, ideally 18.5 to 24.9.\n",
    "\n",
    "· children: Number of children covered by health insurance / Number of dependents\n",
    "\n",
    "· smoker: Smoking\n",
    "\n",
    "· region: the beneficiary's residential area in the US, northeast, southeast, southwest, northwest.\n",
    "\n",
    "· charges: Individual medical costs billed by health insurance\n",
    "\n",
    "\n",
    "\n",
    "\n",
    "Predict : Charges  Can you accurately predict insurance costs?\n",
    "\n",
    "\n",
    "\n",
    "\n",
    "\n",
    "Dataset Link - https://github.com/dsrscientist/dataset4/blob/main/medical_cost_insurance.csv"
   ]
  },
  {
   "cell_type": "markdown",
   "id": "7b10dd9e",
   "metadata": {},
   "source": [
    "For more information about algorithm\n",
    "Follow this -> https://scikit-learn.org/stable/index.html"
   ]
  },
  {
   "cell_type": "code",
   "execution_count": 1,
   "id": "0ef9d894",
   "metadata": {},
   "outputs": [],
   "source": [
    "#Lets import necessary Libraries.\n",
    "import pandas as pd\n",
    "import numpy as np"
   ]
  },
  {
   "cell_type": "code",
   "execution_count": 2,
   "id": "a7ddfea4",
   "metadata": {},
   "outputs": [
    {
     "data": {
      "text/html": [
       "<div>\n",
       "<style scoped>\n",
       "    .dataframe tbody tr th:only-of-type {\n",
       "        vertical-align: middle;\n",
       "    }\n",
       "\n",
       "    .dataframe tbody tr th {\n",
       "        vertical-align: top;\n",
       "    }\n",
       "\n",
       "    .dataframe thead th {\n",
       "        text-align: right;\n",
       "    }\n",
       "</style>\n",
       "<table border=\"1\" class=\"dataframe\">\n",
       "  <thead>\n",
       "    <tr style=\"text-align: right;\">\n",
       "      <th></th>\n",
       "      <th>age</th>\n",
       "      <th>sex</th>\n",
       "      <th>bmi</th>\n",
       "      <th>children</th>\n",
       "      <th>smoker</th>\n",
       "      <th>region</th>\n",
       "      <th>charges</th>\n",
       "    </tr>\n",
       "  </thead>\n",
       "  <tbody>\n",
       "    <tr>\n",
       "      <th>0</th>\n",
       "      <td>19</td>\n",
       "      <td>female</td>\n",
       "      <td>27.900</td>\n",
       "      <td>0</td>\n",
       "      <td>yes</td>\n",
       "      <td>southwest</td>\n",
       "      <td>16884.92400</td>\n",
       "    </tr>\n",
       "    <tr>\n",
       "      <th>1</th>\n",
       "      <td>18</td>\n",
       "      <td>male</td>\n",
       "      <td>33.770</td>\n",
       "      <td>1</td>\n",
       "      <td>no</td>\n",
       "      <td>southeast</td>\n",
       "      <td>1725.55230</td>\n",
       "    </tr>\n",
       "    <tr>\n",
       "      <th>2</th>\n",
       "      <td>28</td>\n",
       "      <td>male</td>\n",
       "      <td>33.000</td>\n",
       "      <td>3</td>\n",
       "      <td>no</td>\n",
       "      <td>southeast</td>\n",
       "      <td>4449.46200</td>\n",
       "    </tr>\n",
       "    <tr>\n",
       "      <th>3</th>\n",
       "      <td>33</td>\n",
       "      <td>male</td>\n",
       "      <td>22.705</td>\n",
       "      <td>0</td>\n",
       "      <td>no</td>\n",
       "      <td>northwest</td>\n",
       "      <td>21984.47061</td>\n",
       "    </tr>\n",
       "    <tr>\n",
       "      <th>4</th>\n",
       "      <td>32</td>\n",
       "      <td>male</td>\n",
       "      <td>28.880</td>\n",
       "      <td>0</td>\n",
       "      <td>no</td>\n",
       "      <td>northwest</td>\n",
       "      <td>3866.85520</td>\n",
       "    </tr>\n",
       "  </tbody>\n",
       "</table>\n",
       "</div>"
      ],
      "text/plain": [
       "   age     sex     bmi  children smoker     region      charges\n",
       "0   19  female  27.900         0    yes  southwest  16884.92400\n",
       "1   18    male  33.770         1     no  southeast   1725.55230\n",
       "2   28    male  33.000         3     no  southeast   4449.46200\n",
       "3   33    male  22.705         0     no  northwest  21984.47061\n",
       "4   32    male  28.880         0     no  northwest   3866.85520"
      ]
     },
     "execution_count": 2,
     "metadata": {},
     "output_type": "execute_result"
    }
   ],
   "source": [
    "data=pd.read_csv(\"https://raw.githubusercontent.com/dsrscientist/dataset4/main/medical_cost_insurance.csv\")\n",
    "data.head()"
   ]
  },
  {
   "cell_type": "code",
   "execution_count": null,
   "id": "ab3acb45",
   "metadata": {},
   "outputs": [],
   "source": []
  },
  {
   "cell_type": "code",
   "execution_count": 3,
   "id": "eaadf1b2",
   "metadata": {},
   "outputs": [
    {
     "data": {
      "text/plain": [
       "(1338, 7)"
      ]
     },
     "execution_count": 3,
     "metadata": {},
     "output_type": "execute_result"
    }
   ],
   "source": [
    "#Lets check the shape of dataset\n",
    "data.shape"
   ]
  },
  {
   "cell_type": "markdown",
   "id": "89047961",
   "metadata": {},
   "source": [
    "So , here we have 1338 rows and 7 columns"
   ]
  },
  {
   "cell_type": "markdown",
   "id": "894de661",
   "metadata": {},
   "source": [
    "# Data is Duplicated ?\n"
   ]
  },
  {
   "cell_type": "code",
   "execution_count": 4,
   "id": "cacb0d60",
   "metadata": {},
   "outputs": [
    {
     "data": {
      "text/plain": [
       "1"
      ]
     },
     "execution_count": 4,
     "metadata": {},
     "output_type": "execute_result"
    }
   ],
   "source": [
    "data.duplicated().sum()"
   ]
  },
  {
   "cell_type": "code",
   "execution_count": 5,
   "id": "fcfeb182",
   "metadata": {},
   "outputs": [],
   "source": [
    "data.drop_duplicates(inplace=True)"
   ]
  },
  {
   "cell_type": "code",
   "execution_count": 6,
   "id": "ef68af48",
   "metadata": {},
   "outputs": [
    {
     "data": {
      "text/plain": [
       "(1337, 7)"
      ]
     },
     "execution_count": 6,
     "metadata": {},
     "output_type": "execute_result"
    }
   ],
   "source": [
    "#Lets check again the shape of dataset\n",
    "data.shape"
   ]
  },
  {
   "cell_type": "code",
   "execution_count": 7,
   "id": "bc9b730c",
   "metadata": {},
   "outputs": [
    {
     "data": {
      "text/plain": [
       "age           int64\n",
       "sex          object\n",
       "bmi         float64\n",
       "children      int64\n",
       "smoker       object\n",
       "region       object\n",
       "charges     float64\n",
       "dtype: object"
      ]
     },
     "execution_count": 7,
     "metadata": {},
     "output_type": "execute_result"
    }
   ],
   "source": [
    "#Lets check the data type of dataset\n",
    "data.dtypes"
   ]
  },
  {
   "cell_type": "markdown",
   "id": "c00b0035",
   "metadata": {},
   "source": [
    " So ,Here we have we have .\n",
    "\n",
    "int type  - 2 columns ( Age , Children)\n",
    "\n",
    "Object type - 3 columns ( Sex, Smoker , Region)\n",
    "\n",
    "Float Type - 2 columns (BMI ,charges)\n",
    "\n",
    "\n",
    "\n",
    "Our target column is float type that is Charges. and we consider 99% of times float data has a continious data . so in this we have 2 continious data in pour dataset."
   ]
  },
  {
   "cell_type": "code",
   "execution_count": 8,
   "id": "d5ebe8bf",
   "metadata": {},
   "outputs": [
    {
     "data": {
      "image/png": "[encoded data removed]",
      "text/plain": [
       "<Figure size 2200x800 with 2 Axes>"
      ]
     },
     "metadata": {},
     "output_type": "display_data"
    }
   ],
   "source": [
    "#Lets Discribe the dataset using heatmap\n",
    "import matplotlib.pyplot as plt\n",
    "%matplotlib inline\n",
    "import seaborn as sns\n",
    "plt.figure(figsize=(22,8))\n",
    "sns.heatmap(data.describe(),annot=True,linewidths=0.3,linecolor='orange',fmt=\"0.2f\")\n",
    "plt.show()"
   ]
  },
  {
   "cell_type": "markdown",
   "id": "0678aae7",
   "metadata": {},
   "source": [
    "# Observations\n",
    "- No Missing Values\n",
    "\n",
    "\n",
    "- Outliers in BMI.\n",
    "\n",
    "\n",
    "We are good to proceed."
   ]
  },
  {
   "cell_type": "markdown",
   "id": "5f690856",
   "metadata": {},
   "source": [
    "#  EDA (Exploratory data analysis)\n",
    "\n",
    "- Basic Analysis with Visualisation"
   ]
  },
  {
   "cell_type": "code",
   "execution_count": 9,
   "id": "0325d7b7",
   "metadata": {},
   "outputs": [],
   "source": [
    "#Lets plot relplot(Relational Plot)\n",
    "import seaborn as sns # Importing Visualisation library (Seaborn and Matplotlib)\n",
    "import matplotlib.pyplot as plt"
   ]
  },
  {
   "cell_type": "code",
   "execution_count": 10,
   "id": "012817b6",
   "metadata": {},
   "outputs": [
    {
     "data": {
      "image/png": "[encoded data removed]",
      "text/plain": [
       "<Figure size 500x500 with 1 Axes>"
      ]
     },
     "metadata": {},
     "output_type": "display_data"
    }
   ],
   "source": [
    "#Lets plot age\n",
    "sns.relplot(x='age',y='charges',data=data,kind='scatter')\n",
    "plt.show()"
   ]
  },
  {
   "cell_type": "markdown",
   "id": "3a3efcac",
   "metadata": {},
   "source": [
    "So , Here we can see the . there are  some positive relationship."
   ]
  },
  {
   "cell_type": "code",
   "execution_count": 11,
   "id": "a5ac6e8e",
   "metadata": {},
   "outputs": [
    {
     "data": {
      "image/png": "[encoded data removed]",
      "text/plain": [
       "<Figure size 500x500 with 1 Axes>"
      ]
     },
     "metadata": {},
     "output_type": "display_data"
    }
   ],
   "source": [
    "#Lets plot children columns\n",
    "sns.relplot(x='children',y='charges',data=data,kind='scatter')\n",
    "plt.show()"
   ]
  },
  {
   "cell_type": "markdown",
   "id": "41438b1b",
   "metadata": {},
   "source": [
    "As the number of children increase the charges decrease ,We can clearly see that there is no relationship. in children and charges column \n"
   ]
  },
  {
   "cell_type": "code",
   "execution_count": 12,
   "id": "32080347",
   "metadata": {},
   "outputs": [
    {
     "data": {
      "image/png": "[encoded data removed]",
      "text/plain": [
       "<Figure size 500x500 with 1 Axes>"
      ]
     },
     "metadata": {},
     "output_type": "display_data"
    }
   ],
   "source": [
    "#Lets plot BMI\n",
    "sns.relplot(x='bmi',y='charges',data=data,kind='scatter')\n",
    "plt.show()"
   ]
  },
  {
   "cell_type": "markdown",
   "id": "158388df",
   "metadata": {},
   "source": [
    "We can see that . BMI and Charges has no  relationship.."
   ]
  },
  {
   "cell_type": "code",
   "execution_count": 13,
   "id": "24fcb371",
   "metadata": {},
   "outputs": [
    {
     "data": {
      "image/png": "[encoded data removed]",
      "text/plain": [
       "<Figure size 640x480 with 1 Axes>"
      ]
     },
     "metadata": {},
     "output_type": "display_data"
    },
    {
     "data": {
      "text/plain": [
       "male      675\n",
       "female    662\n",
       "Name: sex, dtype: int64"
      ]
     },
     "execution_count": 13,
     "metadata": {},
     "output_type": "execute_result"
    }
   ],
   "source": [
    "#Lets plot sex data .Using count plot\n",
    "sns.countplot(x='sex',data=data)\n",
    "plt.show()\n",
    "data['sex'].value_counts()"
   ]
  },
  {
   "cell_type": "markdown",
   "id": "6a0ec18f",
   "metadata": {},
   "source": [
    "So , in sex column we have Male - 675 and Female - 662"
   ]
  },
  {
   "cell_type": "code",
   "execution_count": 14,
   "id": "cce3b739",
   "metadata": {},
   "outputs": [
    {
     "data": {
      "image/png": "[encoded data removed]",
      "text/plain": [
       "<Figure size 640x480 with 1 Axes>"
      ]
     },
     "metadata": {},
     "output_type": "display_data"
    },
    {
     "data": {
      "text/plain": [
       "no     1063\n",
       "yes     274\n",
       "Name: smoker, dtype: int64"
      ]
     },
     "execution_count": 14,
     "metadata": {},
     "output_type": "execute_result"
    }
   ],
   "source": [
    "#Lets plot smoker . using count plot.\n",
    "sns.countplot(x='smoker',data=data)\n",
    "plt.show()\n",
    "data['smoker'].value_counts()"
   ]
  },
  {
   "cell_type": "markdown",
   "id": "0ec69c6f",
   "metadata": {},
   "source": [
    "So ,here we have 274 person who are smoking and 1063 person who are not smoking."
   ]
  },
  {
   "cell_type": "code",
   "execution_count": 15,
   "id": "c819ec6f",
   "metadata": {},
   "outputs": [
    {
     "data": {
      "image/png": "[encoded data removed]",
      "text/plain": [
       "<Figure size 640x480 with 1 Axes>"
      ]
     },
     "metadata": {},
     "output_type": "display_data"
    }
   ],
   "source": [
    "#Lets check how much  are smoking who have dependents\n",
    "sns.countplot(x='smoker',data=data,hue='children',)\n",
    "plt.show()"
   ]
  },
  {
   "cell_type": "markdown",
   "id": "c1afe4fd",
   "metadata": {},
   "source": [
    "- So who have 0 Dependents - More then 100 peoples are smoking\n",
    "\n",
    "- So Who have 1 Dependents - More then 60 People are somking\n",
    "\n",
    "\n",
    "- So Who have 2 Dependents - More then 50 People are smoking\n",
    "\n",
    "\n",
    "- So Who have 3 Dependents - Almost 50 people are somking\n",
    "\n",
    "\n",
    "- So Who have 4 Dependents - Almost 4 - 6 People are Smoking\n",
    "\n",
    "\n",
    "- So who have 5 Dependents - Almost 1-2 People are Smoking"
   ]
  },
  {
   "cell_type": "code",
   "execution_count": 16,
   "id": "5ef6d072",
   "metadata": {},
   "outputs": [
    {
     "data": {
      "image/png": "[encoded data removed]",
      "text/plain": [
       "<Figure size 640x480 with 1 Axes>"
      ]
     },
     "metadata": {},
     "output_type": "display_data"
    },
    {
     "data": {
      "text/plain": [
       "southeast    364\n",
       "southwest    325\n",
       "northwest    324\n",
       "northeast    324\n",
       "Name: region, dtype: int64"
      ]
     },
     "execution_count": 16,
     "metadata": {},
     "output_type": "execute_result"
    }
   ],
   "source": [
    "#Lets plot region \n",
    "sns.countplot(x='region',data=data)\n",
    "plt.show()\n",
    "data['region'].value_counts()"
   ]
  },
  {
   "cell_type": "markdown",
   "id": "f8c0e970",
   "metadata": {},
   "source": [
    "So here we can see that \n",
    "\n",
    "\n",
    "Beneficiary's residential area in the US from SouthEast  is - 364\n",
    "\n",
    "\n",
    "\n",
    "Beneficiary's residential area in the US from SouthWest is - 325\n",
    "\n",
    "\n",
    "\n",
    "Beneficiary's residential area in the US from NorthEast is - 324\n",
    "\n",
    "\n",
    "\n",
    "\n",
    "beneficiary's residential area in the US from NorthWest is - 324"
   ]
  },
  {
   "cell_type": "code",
   "execution_count": 17,
   "id": "8dd1366c",
   "metadata": {},
   "outputs": [
    {
     "data": {
      "image/png": "[encoded data removed]",
      "text/plain": [
       "<Figure size 640x480 with 1 Axes>"
      ]
     },
     "metadata": {},
     "output_type": "display_data"
    }
   ],
   "source": [
    "#Lets check how much male and how much female from all 4 location\n",
    "sns.countplot(x='region',data=data,hue='sex')\n",
    "plt.show()"
   ]
  },
  {
   "cell_type": "markdown",
   "id": "868e2533",
   "metadata": {},
   "source": [
    "So here we can see that from ,\n",
    "\n",
    "SouthWest - Female is 162 and Male is 165\n",
    "\n",
    "SouthEast - Female is 175 and Male is almost 185\n",
    "\n",
    "\n",
    "NorthWest -Female is almost 168 and Male is almost 160\n",
    "\n",
    "\n",
    "North east -  Female is almost almost 160 and Male is almost 168"
   ]
  },
  {
   "cell_type": "code",
   "execution_count": 18,
   "id": "4fc60dfa",
   "metadata": {},
   "outputs": [
    {
     "data": {
      "image/png": "[encoded data removed]",
      "text/plain": [
       "<Figure size 640x480 with 1 Axes>"
      ]
     },
     "metadata": {},
     "output_type": "display_data"
    }
   ],
   "source": [
    "#Lets check how much smoker from which part of USA\n",
    "sns.countplot(x='smoker',data=data,hue='region')\n",
    "plt.show()"
   ]
  },
  {
   "cell_type": "markdown",
   "id": "8677d55a",
   "metadata": {},
   "source": [
    "From Southwest from USA only almost 60 person  are smoker\n",
    "\n",
    "From Southwest from USA more then 250 person  are Non smoker\n",
    "\n",
    "From SouthEast from USA only almost 90 person  are smoker\n",
    "\n",
    "\n",
    "From SouthEast from USA more then 250 person  are Non smoker\n",
    "\n",
    "\n",
    "From NorthWest from USA only almost 60 person are smoker\n",
    "\n",
    "\n",
    "From NorthWest from USA more then 250 person  are Non smoker\n",
    "\n",
    "\n",
    "\n",
    "From NorthEast from USA more then almost 70 person are smoker\n",
    "\n",
    "\n",
    "From NorthEast from USA more then 250 person  are Non smoker\n",
    "\n",
    "\n",
    "\n",
    "\n",
    "So, here we observe that  number of people are smoker in 4 region in USA \n"
   ]
  },
  {
   "cell_type": "markdown",
   "id": "6ccecb98",
   "metadata": {},
   "source": [
    "# Count of Smokers by Sex and Region"
   ]
  },
  {
   "cell_type": "code",
   "execution_count": 19,
   "id": "5a78e95a",
   "metadata": {},
   "outputs": [
    {
     "data": {
      "text/plain": [
       "region     smoker  sex   \n",
       "northeast  no      female    132\n",
       "                   male      125\n",
       "           yes     male       38\n",
       "                   female     29\n",
       "northwest  no      female    135\n",
       "                   male      131\n",
       "           yes     female     29\n",
       "                   male       29\n",
       "southeast  no      female    139\n",
       "                   male      134\n",
       "           yes     male       55\n",
       "                   female     36\n",
       "southwest  no      female    141\n",
       "                   male      126\n",
       "           yes     male       37\n",
       "                   female     21\n",
       "dtype: int64"
      ]
     },
     "execution_count": 19,
     "metadata": {},
     "output_type": "execute_result"
    }
   ],
   "source": [
    "import warnings\n",
    "warnings.filterwarnings('ignore')\n",
    "data.groupby(['region'])['smoker','sex'].value_counts()\n"
   ]
  },
  {
   "cell_type": "markdown",
   "id": "177715e5",
   "metadata": {},
   "source": [
    "So we get almost same as what we see in the previous code."
   ]
  },
  {
   "cell_type": "code",
   "execution_count": 20,
   "id": "61f2431a",
   "metadata": {},
   "outputs": [
    {
     "data": {
      "image/png": "[encoded data removed]",
      "text/plain": [
       "<Figure size 640x480 with 1 Axes>"
      ]
     },
     "metadata": {},
     "output_type": "display_data"
    }
   ],
   "source": [
    "#Lets check how much male and female are smoker\n",
    "\n",
    "sns.countplot(x='sex',data=data,hue='smoker')\n",
    "plt.show()"
   ]
  },
  {
   "cell_type": "markdown",
   "id": "61ceb644",
   "metadata": {},
   "source": [
    "So ,here we can observe that \n",
    "\n",
    "Female - more 100 peoples are smoker  \n",
    "\n",
    "\n",
    "Male - More then  peoples are smoker "
   ]
  },
  {
   "cell_type": "code",
   "execution_count": 21,
   "id": "a4e4c103",
   "metadata": {},
   "outputs": [],
   "source": [
    "import warnings\n",
    "warnings.filterwarnings('ignore')"
   ]
  },
  {
   "cell_type": "code",
   "execution_count": 22,
   "id": "a3f925d2",
   "metadata": {},
   "outputs": [
    {
     "data": {
      "text/plain": [
       "Index(['age', 'sex', 'bmi', 'children', 'smoker', 'region', 'charges'], dtype='object')"
      ]
     },
     "execution_count": 22,
     "metadata": {},
     "output_type": "execute_result"
    }
   ],
   "source": [
    "data.columns"
   ]
  },
  {
   "cell_type": "code",
   "execution_count": 23,
   "id": "b0892939",
   "metadata": {},
   "outputs": [
    {
     "data": {
      "image/png": "[encoded data removed]",
      "text/plain": [
       "<Figure size 2200x700 with 4 Axes>"
      ]
     },
     "metadata": {},
     "output_type": "display_data"
    }
   ],
   "source": [
    "#Lets check the distribution of the columns\n",
    "plt.figure(figsize=(22,7))\n",
    "plotnumber=1\n",
    "for column in data[['age','bmi','children','charges']]:#Here we taking only numerical data\n",
    "    if plotnumber <=4:\n",
    "        ax=plt.subplot(2,2,plotnumber)\n",
    "        sns.distplot(data[column])\n",
    "        plt.xlabel(column,fontsize=20)\n",
    "    plotnumber +=1\n",
    "plt.show()"
   ]
  },
  {
   "cell_type": "markdown",
   "id": "333ca4e6",
   "metadata": {},
   "source": [
    "# Observation\n",
    "\n",
    "\n",
    "Age - > Age is Little Bit Skewed\n",
    "\n",
    "BMI -> BMI contains some outliers because we have the Normal BMI rate (using the ratio of height to weight, ideally 18.5 to 24.9)\n",
    "\n",
    "Children -> 6 Children Is normal,  is little bit skewed\n",
    "\n",
    "\n",
    "Chrages - > Charges is our target column."
   ]
  },
  {
   "cell_type": "code",
   "execution_count": 24,
   "id": "e8dff77b",
   "metadata": {},
   "outputs": [
    {
     "data": {
      "image/png": "[encoded data removed]",
      "text/plain": [
       "<Figure size 2200x700 with 4 Axes>"
      ]
     },
     "metadata": {},
     "output_type": "display_data"
    }
   ],
   "source": [
    "#Lets Plot BOX plot and Check Outliers by visualization\n",
    "#Lets check the distribution of the columns\n",
    "plt.figure(figsize=(22,7))\n",
    "plotnumber=1\n",
    "for column in data[['age','bmi','children','charges']]:#Here we taking only numerical data\n",
    "    if plotnumber <=4:\n",
    "        ax=plt.subplot(2,2,plotnumber)\n",
    "        sns.boxplot(data[column])\n",
    "        plt.xlabel(column,fontsize=20)\n",
    "    plotnumber +=1\n",
    "plt.show()"
   ]
  },
  {
   "cell_type": "markdown",
   "id": "3384cb82",
   "metadata": {},
   "source": [
    "Observation\n",
    "\n",
    "Here we can clearly see that . BMI has some outliers . We have to fix them."
   ]
  },
  {
   "cell_type": "markdown",
   "id": "5ee5b7c2",
   "metadata": {},
   "source": [
    "# First we have to check correlatiom before losing any data because we have small dataset ."
   ]
  },
  {
   "cell_type": "code",
   "execution_count": 25,
   "id": "a4c39469",
   "metadata": {},
   "outputs": [
    {
     "data": {
      "image/png": "[encoded data removed]",
      "text/plain": [
       "<Figure size 640x480 with 2 Axes>"
      ]
     },
     "metadata": {},
     "output_type": "display_data"
    }
   ],
   "source": [
    "sns.heatmap(data.corr(),annot=True,fmt='.2f',)\n",
    "plt.show()"
   ]
  },
  {
   "cell_type": "markdown",
   "id": "fce8a1b1",
   "metadata": {},
   "source": [
    "# Observations\n",
    "\n",
    "1 - BMI have almost 20% relationship with charges\n",
    "\n",
    "2- Age have almost 30%  relationship with charges\n",
    "\n",
    "2 -Childres have almost 7% relationship with charges"
   ]
  },
  {
   "cell_type": "code",
   "execution_count": 26,
   "id": "3174e867",
   "metadata": {},
   "outputs": [
    {
     "data": {
      "text/plain": [
       "age         0.298308\n",
       "bmi         0.198401\n",
       "children    0.067389\n",
       "charges     1.000000\n",
       "Name: charges, dtype: float64"
      ]
     },
     "execution_count": 26,
     "metadata": {},
     "output_type": "execute_result"
    }
   ],
   "source": [
    "#Lets check correlation with target columns\n",
    "data.corr()['charges']"
   ]
  },
  {
   "cell_type": "markdown",
   "id": "78e15a81",
   "metadata": {},
   "source": [
    "As we seen before this code . almost same we get not."
   ]
  },
  {
   "cell_type": "code",
   "execution_count": null,
   "id": "221002d8",
   "metadata": {},
   "outputs": [],
   "source": []
  },
  {
   "cell_type": "markdown",
   "id": "c388da95",
   "metadata": {},
   "source": [
    "# Data Preprocessing"
   ]
  },
  {
   "cell_type": "code",
   "execution_count": 27,
   "id": "3239d2fd",
   "metadata": {},
   "outputs": [
    {
     "data": {
      "text/plain": [
       "['sex', 'smoker', 'region']"
      ]
     },
     "execution_count": 27,
     "metadata": {},
     "output_type": "execute_result"
    }
   ],
   "source": [
    "#Lets use encoding technique and convert all categorical data to numerical data\n",
    "#First filter categorical column\n",
    "numeric=['int8','int16','int32','int64','float','float32','float64']\n",
    "categorical_column=[]\n",
    "feature=data.columns.values.tolist()\n",
    "\n",
    "for col in feature:\n",
    "    if data[col].dtype in numeric:\n",
    "        continue\n",
    "    categorical_column.append(col)\n",
    "categorical_column"
   ]
  },
  {
   "cell_type": "code",
   "execution_count": 28,
   "id": "131c129f",
   "metadata": {},
   "outputs": [
    {
     "data": {
      "text/html": [
       "<div>\n",
       "<style scoped>\n",
       "    .dataframe tbody tr th:only-of-type {\n",
       "        vertical-align: middle;\n",
       "    }\n",
       "\n",
       "    .dataframe tbody tr th {\n",
       "        vertical-align: top;\n",
       "    }\n",
       "\n",
       "    .dataframe thead th {\n",
       "        text-align: right;\n",
       "    }\n",
       "</style>\n",
       "<table border=\"1\" class=\"dataframe\">\n",
       "  <thead>\n",
       "    <tr style=\"text-align: right;\">\n",
       "      <th></th>\n",
       "      <th>sex_male</th>\n",
       "      <th>smoker_yes</th>\n",
       "      <th>region_northwest</th>\n",
       "      <th>region_southeast</th>\n",
       "      <th>region_southwest</th>\n",
       "    </tr>\n",
       "  </thead>\n",
       "  <tbody>\n",
       "    <tr>\n",
       "      <th>0</th>\n",
       "      <td>0</td>\n",
       "      <td>1</td>\n",
       "      <td>0</td>\n",
       "      <td>0</td>\n",
       "      <td>1</td>\n",
       "    </tr>\n",
       "    <tr>\n",
       "      <th>1</th>\n",
       "      <td>1</td>\n",
       "      <td>0</td>\n",
       "      <td>0</td>\n",
       "      <td>1</td>\n",
       "      <td>0</td>\n",
       "    </tr>\n",
       "    <tr>\n",
       "      <th>2</th>\n",
       "      <td>1</td>\n",
       "      <td>0</td>\n",
       "      <td>0</td>\n",
       "      <td>1</td>\n",
       "      <td>0</td>\n",
       "    </tr>\n",
       "    <tr>\n",
       "      <th>3</th>\n",
       "      <td>1</td>\n",
       "      <td>0</td>\n",
       "      <td>1</td>\n",
       "      <td>0</td>\n",
       "      <td>0</td>\n",
       "    </tr>\n",
       "    <tr>\n",
       "      <th>4</th>\n",
       "      <td>1</td>\n",
       "      <td>0</td>\n",
       "      <td>1</td>\n",
       "      <td>0</td>\n",
       "      <td>0</td>\n",
       "    </tr>\n",
       "  </tbody>\n",
       "</table>\n",
       "</div>"
      ],
      "text/plain": [
       "   sex_male  smoker_yes  region_northwest  region_southeast  region_southwest\n",
       "0         0           1                 0                 0                 1\n",
       "1         1           0                 0                 1                 0\n",
       "2         1           0                 0                 1                 0\n",
       "3         1           0                 1                 0                 0\n",
       "4         1           0                 1                 0                 0"
      ]
     },
     "execution_count": 28,
     "metadata": {},
     "output_type": "execute_result"
    }
   ],
   "source": [
    "df_dummies=pd.get_dummies(data[categorical_column],drop_first=True)\n",
    "df_dummies.head()"
   ]
  },
  {
   "cell_type": "markdown",
   "id": "d12feacf",
   "metadata": {},
   "source": [
    "So , Here we have to Encode Sex , Smoker and Region. using pd.get_dummies."
   ]
  },
  {
   "cell_type": "code",
   "execution_count": 29,
   "id": "d6859316",
   "metadata": {},
   "outputs": [],
   "source": [
    "#Lets join with DataFrame\n",
    "data=data.join(df_dummies)\n"
   ]
  },
  {
   "cell_type": "code",
   "execution_count": 30,
   "id": "459b4f05",
   "metadata": {},
   "outputs": [
    {
     "data": {
      "text/html": [
       "<div>\n",
       "<style scoped>\n",
       "    .dataframe tbody tr th:only-of-type {\n",
       "        vertical-align: middle;\n",
       "    }\n",
       "\n",
       "    .dataframe tbody tr th {\n",
       "        vertical-align: top;\n",
       "    }\n",
       "\n",
       "    .dataframe thead th {\n",
       "        text-align: right;\n",
       "    }\n",
       "</style>\n",
       "<table border=\"1\" class=\"dataframe\">\n",
       "  <thead>\n",
       "    <tr style=\"text-align: right;\">\n",
       "      <th></th>\n",
       "      <th>age</th>\n",
       "      <th>sex</th>\n",
       "      <th>bmi</th>\n",
       "      <th>children</th>\n",
       "      <th>smoker</th>\n",
       "      <th>region</th>\n",
       "      <th>charges</th>\n",
       "      <th>sex_male</th>\n",
       "      <th>smoker_yes</th>\n",
       "      <th>region_northwest</th>\n",
       "      <th>region_southeast</th>\n",
       "      <th>region_southwest</th>\n",
       "    </tr>\n",
       "  </thead>\n",
       "  <tbody>\n",
       "    <tr>\n",
       "      <th>0</th>\n",
       "      <td>19</td>\n",
       "      <td>female</td>\n",
       "      <td>27.900</td>\n",
       "      <td>0</td>\n",
       "      <td>yes</td>\n",
       "      <td>southwest</td>\n",
       "      <td>16884.92400</td>\n",
       "      <td>0</td>\n",
       "      <td>1</td>\n",
       "      <td>0</td>\n",
       "      <td>0</td>\n",
       "      <td>1</td>\n",
       "    </tr>\n",
       "    <tr>\n",
       "      <th>1</th>\n",
       "      <td>18</td>\n",
       "      <td>male</td>\n",
       "      <td>33.770</td>\n",
       "      <td>1</td>\n",
       "      <td>no</td>\n",
       "      <td>southeast</td>\n",
       "      <td>1725.55230</td>\n",
       "      <td>1</td>\n",
       "      <td>0</td>\n",
       "      <td>0</td>\n",
       "      <td>1</td>\n",
       "      <td>0</td>\n",
       "    </tr>\n",
       "    <tr>\n",
       "      <th>2</th>\n",
       "      <td>28</td>\n",
       "      <td>male</td>\n",
       "      <td>33.000</td>\n",
       "      <td>3</td>\n",
       "      <td>no</td>\n",
       "      <td>southeast</td>\n",
       "      <td>4449.46200</td>\n",
       "      <td>1</td>\n",
       "      <td>0</td>\n",
       "      <td>0</td>\n",
       "      <td>1</td>\n",
       "      <td>0</td>\n",
       "    </tr>\n",
       "    <tr>\n",
       "      <th>3</th>\n",
       "      <td>33</td>\n",
       "      <td>male</td>\n",
       "      <td>22.705</td>\n",
       "      <td>0</td>\n",
       "      <td>no</td>\n",
       "      <td>northwest</td>\n",
       "      <td>21984.47061</td>\n",
       "      <td>1</td>\n",
       "      <td>0</td>\n",
       "      <td>1</td>\n",
       "      <td>0</td>\n",
       "      <td>0</td>\n",
       "    </tr>\n",
       "    <tr>\n",
       "      <th>4</th>\n",
       "      <td>32</td>\n",
       "      <td>male</td>\n",
       "      <td>28.880</td>\n",
       "      <td>0</td>\n",
       "      <td>no</td>\n",
       "      <td>northwest</td>\n",
       "      <td>3866.85520</td>\n",
       "      <td>1</td>\n",
       "      <td>0</td>\n",
       "      <td>1</td>\n",
       "      <td>0</td>\n",
       "      <td>0</td>\n",
       "    </tr>\n",
       "  </tbody>\n",
       "</table>\n",
       "</div>"
      ],
      "text/plain": [
       "   age     sex     bmi  children smoker     region      charges  sex_male  \\\n",
       "0   19  female  27.900         0    yes  southwest  16884.92400         0   \n",
       "1   18    male  33.770         1     no  southeast   1725.55230         1   \n",
       "2   28    male  33.000         3     no  southeast   4449.46200         1   \n",
       "3   33    male  22.705         0     no  northwest  21984.47061         1   \n",
       "4   32    male  28.880         0     no  northwest   3866.85520         1   \n",
       "\n",
       "   smoker_yes  region_northwest  region_southeast  region_southwest  \n",
       "0           1                 0                 0                 1  \n",
       "1           0                 0                 1                 0  \n",
       "2           0                 0                 1                 0  \n",
       "3           0                 1                 0                 0  \n",
       "4           0                 1                 0                 0  "
      ]
     },
     "execution_count": 30,
     "metadata": {},
     "output_type": "execute_result"
    }
   ],
   "source": [
    "#Lets check\n",
    "data.head()"
   ]
  },
  {
   "cell_type": "code",
   "execution_count": 31,
   "id": "23b82df2",
   "metadata": {},
   "outputs": [],
   "source": [
    "#Lets drop unwanted column (Like categorical column)\n",
    "data.drop(columns=categorical_column,axis=1,inplace=True)"
   ]
  },
  {
   "cell_type": "code",
   "execution_count": 32,
   "id": "25317936",
   "metadata": {},
   "outputs": [
    {
     "name": "stdout",
     "output_type": "stream",
     "text": [
      "(1337, 9)\n"
     ]
    },
    {
     "data": {
      "text/html": [
       "<div>\n",
       "<style scoped>\n",
       "    .dataframe tbody tr th:only-of-type {\n",
       "        vertical-align: middle;\n",
       "    }\n",
       "\n",
       "    .dataframe tbody tr th {\n",
       "        vertical-align: top;\n",
       "    }\n",
       "\n",
       "    .dataframe thead th {\n",
       "        text-align: right;\n",
       "    }\n",
       "</style>\n",
       "<table border=\"1\" class=\"dataframe\">\n",
       "  <thead>\n",
       "    <tr style=\"text-align: right;\">\n",
       "      <th></th>\n",
       "      <th>age</th>\n",
       "      <th>bmi</th>\n",
       "      <th>children</th>\n",
       "      <th>charges</th>\n",
       "      <th>sex_male</th>\n",
       "      <th>smoker_yes</th>\n",
       "      <th>region_northwest</th>\n",
       "      <th>region_southeast</th>\n",
       "      <th>region_southwest</th>\n",
       "    </tr>\n",
       "  </thead>\n",
       "  <tbody>\n",
       "    <tr>\n",
       "      <th>0</th>\n",
       "      <td>19</td>\n",
       "      <td>27.900</td>\n",
       "      <td>0</td>\n",
       "      <td>16884.92400</td>\n",
       "      <td>0</td>\n",
       "      <td>1</td>\n",
       "      <td>0</td>\n",
       "      <td>0</td>\n",
       "      <td>1</td>\n",
       "    </tr>\n",
       "    <tr>\n",
       "      <th>1</th>\n",
       "      <td>18</td>\n",
       "      <td>33.770</td>\n",
       "      <td>1</td>\n",
       "      <td>1725.55230</td>\n",
       "      <td>1</td>\n",
       "      <td>0</td>\n",
       "      <td>0</td>\n",
       "      <td>1</td>\n",
       "      <td>0</td>\n",
       "    </tr>\n",
       "    <tr>\n",
       "      <th>2</th>\n",
       "      <td>28</td>\n",
       "      <td>33.000</td>\n",
       "      <td>3</td>\n",
       "      <td>4449.46200</td>\n",
       "      <td>1</td>\n",
       "      <td>0</td>\n",
       "      <td>0</td>\n",
       "      <td>1</td>\n",
       "      <td>0</td>\n",
       "    </tr>\n",
       "    <tr>\n",
       "      <th>3</th>\n",
       "      <td>33</td>\n",
       "      <td>22.705</td>\n",
       "      <td>0</td>\n",
       "      <td>21984.47061</td>\n",
       "      <td>1</td>\n",
       "      <td>0</td>\n",
       "      <td>1</td>\n",
       "      <td>0</td>\n",
       "      <td>0</td>\n",
       "    </tr>\n",
       "    <tr>\n",
       "      <th>4</th>\n",
       "      <td>32</td>\n",
       "      <td>28.880</td>\n",
       "      <td>0</td>\n",
       "      <td>3866.85520</td>\n",
       "      <td>1</td>\n",
       "      <td>0</td>\n",
       "      <td>1</td>\n",
       "      <td>0</td>\n",
       "      <td>0</td>\n",
       "    </tr>\n",
       "  </tbody>\n",
       "</table>\n",
       "</div>"
      ],
      "text/plain": [
       "   age     bmi  children      charges  sex_male  smoker_yes  region_northwest  \\\n",
       "0   19  27.900         0  16884.92400         0           1                 0   \n",
       "1   18  33.770         1   1725.55230         1           0                 0   \n",
       "2   28  33.000         3   4449.46200         1           0                 0   \n",
       "3   33  22.705         0  21984.47061         1           0                 1   \n",
       "4   32  28.880         0   3866.85520         1           0                 1   \n",
       "\n",
       "   region_southeast  region_southwest  \n",
       "0                 0                 1  \n",
       "1                 1                 0  \n",
       "2                 1                 0  \n",
       "3                 0                 0  \n",
       "4                 0                 0  "
      ]
     },
     "execution_count": 32,
     "metadata": {},
     "output_type": "execute_result"
    }
   ],
   "source": [
    "#Lets check columns are deleted or not\n",
    "print(data.shape)\n",
    "data.head()"
   ]
  },
  {
   "cell_type": "markdown",
   "id": "ce78fd2f",
   "metadata": {},
   "source": [
    "Now we completed Encoding Part and Visualization part \n",
    "\n"
   ]
  },
  {
   "cell_type": "markdown",
   "id": "ada63a7d",
   "metadata": {},
   "source": [
    "# Lets Handle the Outlies By using Zscore\n",
    "\n",
    "We see above, only BMI column contains outliers .lets check again\n"
   ]
  },
  {
   "cell_type": "code",
   "execution_count": 33,
   "id": "5437f346",
   "metadata": {},
   "outputs": [
    {
     "data": {
      "image/png": "[encoded data removed]",
      "text/plain": [
       "<Figure size 640x480 with 1 Axes>"
      ]
     },
     "metadata": {},
     "output_type": "display_data"
    }
   ],
   "source": [
    "#Lets plot agian BMI\n",
    "data['bmi'].plot.box()\n",
    "plt.show()"
   ]
  },
  {
   "cell_type": "markdown",
   "id": "8a714686",
   "metadata": {},
   "source": [
    "We can . Clearly see that there is outliers we have to treat that. using zscore"
   ]
  },
  {
   "cell_type": "code",
   "execution_count": 34,
   "id": "9e284121",
   "metadata": {},
   "outputs": [
    {
     "data": {
      "text/plain": [
       "(1337, 9)"
      ]
     },
     "execution_count": 34,
     "metadata": {},
     "output_type": "execute_result"
    }
   ],
   "source": [
    "data.shape"
   ]
  },
  {
   "cell_type": "code",
   "execution_count": 35,
   "id": "bfd0fd52",
   "metadata": {},
   "outputs": [
    {
     "data": {
      "text/html": [
       "<div>\n",
       "<style scoped>\n",
       "    .dataframe tbody tr th:only-of-type {\n",
       "        vertical-align: middle;\n",
       "    }\n",
       "\n",
       "    .dataframe tbody tr th {\n",
       "        vertical-align: top;\n",
       "    }\n",
       "\n",
       "    .dataframe thead th {\n",
       "        text-align: right;\n",
       "    }\n",
       "</style>\n",
       "<table border=\"1\" class=\"dataframe\">\n",
       "  <thead>\n",
       "    <tr style=\"text-align: right;\">\n",
       "      <th></th>\n",
       "      <th>age</th>\n",
       "      <th>bmi</th>\n",
       "      <th>children</th>\n",
       "      <th>charges</th>\n",
       "      <th>sex_male</th>\n",
       "      <th>smoker_yes</th>\n",
       "      <th>region_northwest</th>\n",
       "      <th>region_southeast</th>\n",
       "      <th>region_southwest</th>\n",
       "    </tr>\n",
       "  </thead>\n",
       "  <tbody>\n",
       "    <tr>\n",
       "      <th>count</th>\n",
       "      <td>1333.000000</td>\n",
       "      <td>1333.000000</td>\n",
       "      <td>1333.000000</td>\n",
       "      <td>1333.000000</td>\n",
       "      <td>1333.000000</td>\n",
       "      <td>1333.000000</td>\n",
       "      <td>1333.000000</td>\n",
       "      <td>1333.000000</td>\n",
       "      <td>1333.000000</td>\n",
       "    </tr>\n",
       "    <tr>\n",
       "      <th>mean</th>\n",
       "      <td>39.249062</td>\n",
       "      <td>30.601564</td>\n",
       "      <td>1.097524</td>\n",
       "      <td>13274.344476</td>\n",
       "      <td>0.503376</td>\n",
       "      <td>0.204801</td>\n",
       "      <td>0.243061</td>\n",
       "      <td>0.270068</td>\n",
       "      <td>0.243811</td>\n",
       "    </tr>\n",
       "    <tr>\n",
       "      <th>std</th>\n",
       "      <td>14.028963</td>\n",
       "      <td>6.003179</td>\n",
       "      <td>1.206626</td>\n",
       "      <td>12090.004775</td>\n",
       "      <td>0.500176</td>\n",
       "      <td>0.403708</td>\n",
       "      <td>0.429092</td>\n",
       "      <td>0.444161</td>\n",
       "      <td>0.429541</td>\n",
       "    </tr>\n",
       "    <tr>\n",
       "      <th>min</th>\n",
       "      <td>18.000000</td>\n",
       "      <td>15.960000</td>\n",
       "      <td>0.000000</td>\n",
       "      <td>1121.873900</td>\n",
       "      <td>0.000000</td>\n",
       "      <td>0.000000</td>\n",
       "      <td>0.000000</td>\n",
       "      <td>0.000000</td>\n",
       "      <td>0.000000</td>\n",
       "    </tr>\n",
       "    <tr>\n",
       "      <th>25%</th>\n",
       "      <td>27.000000</td>\n",
       "      <td>26.220000</td>\n",
       "      <td>0.000000</td>\n",
       "      <td>4747.052900</td>\n",
       "      <td>0.000000</td>\n",
       "      <td>0.000000</td>\n",
       "      <td>0.000000</td>\n",
       "      <td>0.000000</td>\n",
       "      <td>0.000000</td>\n",
       "    </tr>\n",
       "    <tr>\n",
       "      <th>50%</th>\n",
       "      <td>39.000000</td>\n",
       "      <td>30.305000</td>\n",
       "      <td>1.000000</td>\n",
       "      <td>9386.161300</td>\n",
       "      <td>1.000000</td>\n",
       "      <td>0.000000</td>\n",
       "      <td>0.000000</td>\n",
       "      <td>0.000000</td>\n",
       "      <td>0.000000</td>\n",
       "    </tr>\n",
       "    <tr>\n",
       "      <th>75%</th>\n",
       "      <td>51.000000</td>\n",
       "      <td>34.600000</td>\n",
       "      <td>2.000000</td>\n",
       "      <td>16657.717450</td>\n",
       "      <td>1.000000</td>\n",
       "      <td>0.000000</td>\n",
       "      <td>0.000000</td>\n",
       "      <td>1.000000</td>\n",
       "      <td>0.000000</td>\n",
       "    </tr>\n",
       "    <tr>\n",
       "      <th>max</th>\n",
       "      <td>64.000000</td>\n",
       "      <td>48.070000</td>\n",
       "      <td>5.000000</td>\n",
       "      <td>63770.428010</td>\n",
       "      <td>1.000000</td>\n",
       "      <td>1.000000</td>\n",
       "      <td>1.000000</td>\n",
       "      <td>1.000000</td>\n",
       "      <td>1.000000</td>\n",
       "    </tr>\n",
       "  </tbody>\n",
       "</table>\n",
       "</div>"
      ],
      "text/plain": [
       "               age          bmi     children       charges     sex_male  \\\n",
       "count  1333.000000  1333.000000  1333.000000   1333.000000  1333.000000   \n",
       "mean     39.249062    30.601564     1.097524  13274.344476     0.503376   \n",
       "std      14.028963     6.003179     1.206626  12090.004775     0.500176   \n",
       "min      18.000000    15.960000     0.000000   1121.873900     0.000000   \n",
       "25%      27.000000    26.220000     0.000000   4747.052900     0.000000   \n",
       "50%      39.000000    30.305000     1.000000   9386.161300     1.000000   \n",
       "75%      51.000000    34.600000     2.000000  16657.717450     1.000000   \n",
       "max      64.000000    48.070000     5.000000  63770.428010     1.000000   \n",
       "\n",
       "        smoker_yes  region_northwest  region_southeast  region_southwest  \n",
       "count  1333.000000       1333.000000       1333.000000       1333.000000  \n",
       "mean      0.204801          0.243061          0.270068          0.243811  \n",
       "std       0.403708          0.429092          0.444161          0.429541  \n",
       "min       0.000000          0.000000          0.000000          0.000000  \n",
       "25%       0.000000          0.000000          0.000000          0.000000  \n",
       "50%       0.000000          0.000000          0.000000          0.000000  \n",
       "75%       0.000000          0.000000          1.000000          0.000000  \n",
       "max       1.000000          1.000000          1.000000          1.000000  "
      ]
     },
     "execution_count": 35,
     "metadata": {},
     "output_type": "execute_result"
    }
   ],
   "source": [
    "#Lets import zscore\n",
    "import numpy as np\n",
    "from scipy.stats import zscore\n",
    "z_score=zscore(data[['bmi']])\n",
    "abs_score=np.abs(z_score)\n",
    "filtering_entry=(abs_score<3).all(axis=1)\n",
    "data=data[filtering_entry]\n",
    "data.describe()"
   ]
  },
  {
   "cell_type": "code",
   "execution_count": 36,
   "id": "02854ec8",
   "metadata": {},
   "outputs": [
    {
     "data": {
      "text/plain": [
       "(1333, 9)"
      ]
     },
     "execution_count": 36,
     "metadata": {},
     "output_type": "execute_result"
    }
   ],
   "source": [
    "data.shape"
   ]
  },
  {
   "cell_type": "markdown",
   "id": "83f973fd",
   "metadata": {},
   "source": [
    "# Check How Much Data Loss"
   ]
  },
  {
   "cell_type": "code",
   "execution_count": 37,
   "id": "4c33cc0b",
   "metadata": {},
   "outputs": [
    {
     "data": {
      "text/plain": [
       "0.2991772625280479"
      ]
     },
     "execution_count": 37,
     "metadata": {},
     "output_type": "execute_result"
    }
   ],
   "source": [
    "data_loss=((1337-1333)/1337)*100\n",
    "data_loss"
   ]
  },
  {
   "cell_type": "code",
   "execution_count": 38,
   "id": "476ca0b5",
   "metadata": {},
   "outputs": [
    {
     "data": {
      "image/png": "[encoded data removed]",
      "text/plain": [
       "<Figure size 640x480 with 1 Axes>"
      ]
     },
     "metadata": {},
     "output_type": "display_data"
    }
   ],
   "source": [
    "#Lets plot agian BMI\n",
    "data['bmi'].plot.box()\n",
    "plt.show()"
   ]
  },
  {
   "cell_type": "markdown",
   "id": "22b6f28d",
   "metadata": {},
   "source": [
    "So here we can see that we deleted 4 records from our bmi "
   ]
  },
  {
   "cell_type": "markdown",
   "id": "33ef1abb",
   "metadata": {},
   "source": [
    "# Dividing data in feature and vectors"
   ]
  },
  {
   "cell_type": "code",
   "execution_count": 39,
   "id": "2041e5af",
   "metadata": {},
   "outputs": [],
   "source": [
    "x=data.drop(columns='charges')#Feature\n",
    "y=data.charges#Target"
   ]
  },
  {
   "cell_type": "code",
   "execution_count": 40,
   "id": "283f7480",
   "metadata": {},
   "outputs": [
    {
     "data": {
      "text/plain": [
       "age                 0.052714\n",
       "bmi                 0.205541\n",
       "children            0.934451\n",
       "sex_male           -0.013519\n",
       "smoker_yes          1.464636\n",
       "region_northwest    1.199393\n",
       "region_southeast    1.036912\n",
       "region_southwest    1.194642\n",
       "dtype: float64"
      ]
     },
     "execution_count": 40,
     "metadata": {},
     "output_type": "execute_result"
    }
   ],
   "source": [
    "x.skew()"
   ]
  },
  {
   "cell_type": "markdown",
   "id": "05fc6d17",
   "metadata": {},
   "source": [
    "Here we can set threshold for +\\-0.5. and we found as Age and Childres not come in our Threshold . So we decided to remove the skewness using Standard Scaler"
   ]
  },
  {
   "cell_type": "code",
   "execution_count": 41,
   "id": "edd783df",
   "metadata": {},
   "outputs": [],
   "source": [
    "from sklearn.preprocessing import PowerTransformer"
   ]
  },
  {
   "cell_type": "code",
   "execution_count": 42,
   "id": "d48c7ba5",
   "metadata": {},
   "outputs": [
    {
     "data": {
      "text/html": [
       "<div>\n",
       "<style scoped>\n",
       "    .dataframe tbody tr th:only-of-type {\n",
       "        vertical-align: middle;\n",
       "    }\n",
       "\n",
       "    .dataframe tbody tr th {\n",
       "        vertical-align: top;\n",
       "    }\n",
       "\n",
       "    .dataframe thead th {\n",
       "        text-align: right;\n",
       "    }\n",
       "</style>\n",
       "<table border=\"1\" class=\"dataframe\">\n",
       "  <thead>\n",
       "    <tr style=\"text-align: right;\">\n",
       "      <th></th>\n",
       "      <th>age</th>\n",
       "      <th>bmi</th>\n",
       "      <th>children</th>\n",
       "      <th>sex_male</th>\n",
       "      <th>smoker_yes</th>\n",
       "      <th>region_northwest</th>\n",
       "      <th>region_southeast</th>\n",
       "      <th>region_southwest</th>\n",
       "    </tr>\n",
       "  </thead>\n",
       "  <tbody>\n",
       "    <tr>\n",
       "      <th>0</th>\n",
       "      <td>-1.528726</td>\n",
       "      <td>-0.414363</td>\n",
       "      <td>-1.075975</td>\n",
       "      <td>-1.006775</td>\n",
       "      <td>1.970478</td>\n",
       "      <td>-0.566666</td>\n",
       "      <td>-0.608268</td>\n",
       "      <td>1.761119</td>\n",
       "    </tr>\n",
       "    <tr>\n",
       "      <th>1</th>\n",
       "      <td>-1.620462</td>\n",
       "      <td>0.558170</td>\n",
       "      <td>0.297172</td>\n",
       "      <td>0.993271</td>\n",
       "      <td>-0.507491</td>\n",
       "      <td>-0.566666</td>\n",
       "      <td>1.644013</td>\n",
       "      <td>-0.567821</td>\n",
       "    </tr>\n",
       "    <tr>\n",
       "      <th>2</th>\n",
       "      <td>-0.768151</td>\n",
       "      <td>0.435098</td>\n",
       "      <td>1.365704</td>\n",
       "      <td>0.993271</td>\n",
       "      <td>-0.507491</td>\n",
       "      <td>-0.566666</td>\n",
       "      <td>1.644013</td>\n",
       "      <td>-0.567821</td>\n",
       "    </tr>\n",
       "    <tr>\n",
       "      <th>3</th>\n",
       "      <td>-0.384232</td>\n",
       "      <td>-1.353124</td>\n",
       "      <td>-1.075975</td>\n",
       "      <td>0.993271</td>\n",
       "      <td>-0.507491</td>\n",
       "      <td>1.764709</td>\n",
       "      <td>-0.608268</td>\n",
       "      <td>-0.567821</td>\n",
       "    </tr>\n",
       "    <tr>\n",
       "      <th>4</th>\n",
       "      <td>-0.459239</td>\n",
       "      <td>-0.246151</td>\n",
       "      <td>-1.075975</td>\n",
       "      <td>0.993271</td>\n",
       "      <td>-0.507491</td>\n",
       "      <td>1.764709</td>\n",
       "      <td>-0.608268</td>\n",
       "      <td>-0.567821</td>\n",
       "    </tr>\n",
       "    <tr>\n",
       "      <th>...</th>\n",
       "      <td>...</td>\n",
       "      <td>...</td>\n",
       "      <td>...</td>\n",
       "      <td>...</td>\n",
       "      <td>...</td>\n",
       "      <td>...</td>\n",
       "      <td>...</td>\n",
       "      <td>...</td>\n",
       "    </tr>\n",
       "    <tr>\n",
       "      <th>1328</th>\n",
       "      <td>0.786870</td>\n",
       "      <td>0.104422</td>\n",
       "      <td>1.365704</td>\n",
       "      <td>0.993271</td>\n",
       "      <td>-0.507491</td>\n",
       "      <td>1.764709</td>\n",
       "      <td>-0.608268</td>\n",
       "      <td>-0.567821</td>\n",
       "    </tr>\n",
       "    <tr>\n",
       "      <th>1329</th>\n",
       "      <td>-1.620462</td>\n",
       "      <td>0.260323</td>\n",
       "      <td>-1.075975</td>\n",
       "      <td>-1.006775</td>\n",
       "      <td>-0.507491</td>\n",
       "      <td>-0.566666</td>\n",
       "      <td>-0.608268</td>\n",
       "      <td>-0.567821</td>\n",
       "    </tr>\n",
       "    <tr>\n",
       "      <th>1330</th>\n",
       "      <td>-1.620462</td>\n",
       "      <td>1.038523</td>\n",
       "      <td>-1.075975</td>\n",
       "      <td>-1.006775</td>\n",
       "      <td>-0.507491</td>\n",
       "      <td>-0.566666</td>\n",
       "      <td>1.644013</td>\n",
       "      <td>-0.567821</td>\n",
       "    </tr>\n",
       "    <tr>\n",
       "      <th>1331</th>\n",
       "      <td>-1.350219</td>\n",
       "      <td>-0.783779</td>\n",
       "      <td>-1.075975</td>\n",
       "      <td>-1.006775</td>\n",
       "      <td>-0.507491</td>\n",
       "      <td>-0.566666</td>\n",
       "      <td>-0.608268</td>\n",
       "      <td>1.761119</td>\n",
       "    </tr>\n",
       "    <tr>\n",
       "      <th>1332</th>\n",
       "      <td>1.466682</td>\n",
       "      <td>-0.213830</td>\n",
       "      <td>-1.075975</td>\n",
       "      <td>-1.006775</td>\n",
       "      <td>1.970478</td>\n",
       "      <td>1.764709</td>\n",
       "      <td>-0.608268</td>\n",
       "      <td>-0.567821</td>\n",
       "    </tr>\n",
       "  </tbody>\n",
       "</table>\n",
       "<p>1333 rows × 8 columns</p>\n",
       "</div>"
      ],
      "text/plain": [
       "           age       bmi  children  sex_male  smoker_yes  region_northwest  \\\n",
       "0    -1.528726 -0.414363 -1.075975 -1.006775    1.970478         -0.566666   \n",
       "1    -1.620462  0.558170  0.297172  0.993271   -0.507491         -0.566666   \n",
       "2    -0.768151  0.435098  1.365704  0.993271   -0.507491         -0.566666   \n",
       "3    -0.384232 -1.353124 -1.075975  0.993271   -0.507491          1.764709   \n",
       "4    -0.459239 -0.246151 -1.075975  0.993271   -0.507491          1.764709   \n",
       "...        ...       ...       ...       ...         ...               ...   \n",
       "1328  0.786870  0.104422  1.365704  0.993271   -0.507491          1.764709   \n",
       "1329 -1.620462  0.260323 -1.075975 -1.006775   -0.507491         -0.566666   \n",
       "1330 -1.620462  1.038523 -1.075975 -1.006775   -0.507491         -0.566666   \n",
       "1331 -1.350219 -0.783779 -1.075975 -1.006775   -0.507491         -0.566666   \n",
       "1332  1.466682 -0.213830 -1.075975 -1.006775    1.970478          1.764709   \n",
       "\n",
       "      region_southeast  region_southwest  \n",
       "0            -0.608268          1.761119  \n",
       "1             1.644013         -0.567821  \n",
       "2             1.644013         -0.567821  \n",
       "3            -0.608268         -0.567821  \n",
       "4            -0.608268         -0.567821  \n",
       "...                ...               ...  \n",
       "1328         -0.608268         -0.567821  \n",
       "1329         -0.608268         -0.567821  \n",
       "1330          1.644013         -0.567821  \n",
       "1331         -0.608268          1.761119  \n",
       "1332         -0.608268         -0.567821  \n",
       "\n",
       "[1333 rows x 8 columns]"
      ]
     },
     "execution_count": 42,
     "metadata": {},
     "output_type": "execute_result"
    }
   ],
   "source": [
    "scaler = PowerTransformer()\n",
    "x = pd.DataFrame(scaler.fit_transform(x), columns=x.columns)\n",
    "x\n"
   ]
  },
  {
   "cell_type": "markdown",
   "id": "363542f0",
   "metadata": {},
   "source": [
    "Here we removed all the skewness. and we Normalize the data"
   ]
  },
  {
   "cell_type": "code",
   "execution_count": null,
   "id": "83dbac35",
   "metadata": {},
   "outputs": [],
   "source": []
  },
  {
   "cell_type": "markdown",
   "id": "cf97156d",
   "metadata": {},
   "source": [
    "# Lets Standardize the feature data\n"
   ]
  },
  {
   "cell_type": "code",
   "execution_count": 43,
   "id": "547c6e2c",
   "metadata": {},
   "outputs": [
    {
     "data": {
      "text/plain": [
       "array([[-1.52872596, -0.41436254, -1.0759755 , ..., -0.5666657 ,\n",
       "        -0.6082678 ,  1.76111853],\n",
       "       [-1.62046185,  0.5581704 ,  0.2971715 , ..., -0.5666657 ,\n",
       "         1.64401271, -0.56782095],\n",
       "       [-0.76815101,  0.43509777,  1.36570352, ..., -0.5666657 ,\n",
       "         1.64401271, -0.56782095],\n",
       "       ...,\n",
       "       [-1.62046185,  1.0385231 , -1.0759755 , ..., -0.5666657 ,\n",
       "         1.64401271, -0.56782095],\n",
       "       [-1.35021863, -0.78377912, -1.0759755 , ..., -0.5666657 ,\n",
       "        -0.6082678 ,  1.76111853],\n",
       "       [ 1.46668187, -0.21383012, -1.0759755 , ...,  1.76470891,\n",
       "        -0.6082678 , -0.56782095]])"
      ]
     },
     "execution_count": 43,
     "metadata": {},
     "output_type": "execute_result"
    }
   ],
   "source": [
    "#Lets import standardscaler\n",
    "from sklearn.preprocessing import StandardScaler\n",
    "scaler=StandardScaler()\n",
    "x_scaled=scaler.fit_transform(x)\n",
    "x_scaled"
   ]
  },
  {
   "cell_type": "markdown",
   "id": "aaf60125",
   "metadata": {},
   "source": [
    "# Now use VIF for checking multicollinearity problem\n",
    "\n",
    "VIF - > Variance Inflation Factor"
   ]
  },
  {
   "cell_type": "code",
   "execution_count": 44,
   "id": "0f6dda74",
   "metadata": {},
   "outputs": [],
   "source": [
    "#Lets import VIF\n",
    "from statsmodels.stats.outliers_influence import variance_inflation_factor\n",
    "\n",
    "vif=pd.DataFrame()\n",
    "vif['vif']=[variance_inflation_factor(x_scaled,i)for i in range(x_scaled.shape[1])]\n",
    "vif['feature']=x.columns"
   ]
  },
  {
   "cell_type": "code",
   "execution_count": 45,
   "id": "ca04303b",
   "metadata": {},
   "outputs": [
    {
     "data": {
      "text/html": [
       "<div>\n",
       "<style scoped>\n",
       "    .dataframe tbody tr th:only-of-type {\n",
       "        vertical-align: middle;\n",
       "    }\n",
       "\n",
       "    .dataframe tbody tr th {\n",
       "        vertical-align: top;\n",
       "    }\n",
       "\n",
       "    .dataframe thead th {\n",
       "        text-align: right;\n",
       "    }\n",
       "</style>\n",
       "<table border=\"1\" class=\"dataframe\">\n",
       "  <thead>\n",
       "    <tr style=\"text-align: right;\">\n",
       "      <th></th>\n",
       "      <th>vif</th>\n",
       "      <th>feature</th>\n",
       "    </tr>\n",
       "  </thead>\n",
       "  <tbody>\n",
       "    <tr>\n",
       "      <th>0</th>\n",
       "      <td>1.021824</td>\n",
       "      <td>age</td>\n",
       "    </tr>\n",
       "    <tr>\n",
       "      <th>1</th>\n",
       "      <td>1.099451</td>\n",
       "      <td>bmi</td>\n",
       "    </tr>\n",
       "    <tr>\n",
       "      <th>2</th>\n",
       "      <td>1.007307</td>\n",
       "      <td>children</td>\n",
       "    </tr>\n",
       "    <tr>\n",
       "      <th>3</th>\n",
       "      <td>1.008126</td>\n",
       "      <td>sex_male</td>\n",
       "    </tr>\n",
       "    <tr>\n",
       "      <th>4</th>\n",
       "      <td>1.012206</td>\n",
       "      <td>smoker_yes</td>\n",
       "    </tr>\n",
       "    <tr>\n",
       "      <th>5</th>\n",
       "      <td>1.517010</td>\n",
       "      <td>region_northwest</td>\n",
       "    </tr>\n",
       "    <tr>\n",
       "      <th>6</th>\n",
       "      <td>1.638514</td>\n",
       "      <td>region_southeast</td>\n",
       "    </tr>\n",
       "    <tr>\n",
       "      <th>7</th>\n",
       "      <td>1.528340</td>\n",
       "      <td>region_southwest</td>\n",
       "    </tr>\n",
       "  </tbody>\n",
       "</table>\n",
       "</div>"
      ],
      "text/plain": [
       "        vif           feature\n",
       "0  1.021824               age\n",
       "1  1.099451               bmi\n",
       "2  1.007307          children\n",
       "3  1.008126          sex_male\n",
       "4  1.012206        smoker_yes\n",
       "5  1.517010  region_northwest\n",
       "6  1.638514  region_southeast\n",
       "7  1.528340  region_southwest"
      ]
     },
     "execution_count": 45,
     "metadata": {},
     "output_type": "execute_result"
    }
   ],
   "source": [
    "#Lets check how lookinf VIF score\n",
    "vif"
   ]
  },
  {
   "cell_type": "markdown",
   "id": "28e0835f",
   "metadata": {},
   "source": [
    "In VIF we consider threshold 5 VIF Score . if any feature is greater then 5 VIF Score it means it contains multicollinearity problmem/\n",
    "\n",
    "\n",
    "So in our dataset  no feature have more then 5 vif score . so it means out dataset is not contain any multicollinearity problem."
   ]
  },
  {
   "cell_type": "markdown",
   "id": "1c055855",
   "metadata": {},
   "source": [
    "# Model Building"
   ]
  },
  {
   "cell_type": "code",
   "execution_count": 46,
   "id": "71c20d5e",
   "metadata": {},
   "outputs": [],
   "source": [
    "#Lets Build a Model\n",
    "from sklearn.model_selection import train_test_split\n",
    "from sklearn.linear_model import LinearRegression\n",
    "from sklearn.tree import DecisionTreeRegressor\n",
    "from sklearn.ensemble import RandomForestRegressor\n",
    "from sklearn.ensemble import GradientBoostingRegressor\n",
    "from sklearn.svm import SVR\n",
    "from sklearn.neighbors import KNeighborsRegressor\n",
    "from xgboost import XGBRegressor\n",
    "from sklearn.model_selection import RandomizedSearchCV\n",
    "from sklearn.metrics import mean_absolute_error,mean_squared_error,r2_score\n",
    "from sklearn.model_selection import cross_val_score"
   ]
  },
  {
   "cell_type": "code",
   "execution_count": 47,
   "id": "e0d93ba4",
   "metadata": {},
   "outputs": [
    {
     "name": "stdout",
     "output_type": "stream",
     "text": [
      "Best r2 score is 0.8972822090183997 on Random State 94\n"
     ]
    }
   ],
   "source": [
    "# finding Best Random state\n",
    "maxAccu=0\n",
    "maxRS=0\n",
    "\n",
    "for i in range(1, 200):\n",
    "    X_train, X_test, y_train, y_test = train_test_split(x, y, test_size=0.2, random_state=i)\n",
    "    rf = RandomForestRegressor()\n",
    "    rf.fit(X_train, y_train)\n",
    "    pred = rf.predict(X_test)\n",
    "    r2 = r2_score(y_test, pred)\n",
    "    \n",
    "    if r2>maxAccu:\n",
    "        maxAccu=r2\n",
    "        maxRS=i\n",
    "\n",
    "print(\"Best r2 score is\", maxAccu,\"on Random State\", maxRS)"
   ]
  },
  {
   "cell_type": "code",
   "execution_count": 48,
   "id": "2701d391",
   "metadata": {},
   "outputs": [],
   "source": [
    "# Splitting the data into train and test\n",
    "X_train, X_test, y_train, y_test = train_test_split(x, y, test_size=0.2, random_state=94)"
   ]
  },
  {
   "cell_type": "code",
   "execution_count": 49,
   "id": "b483bc8b",
   "metadata": {},
   "outputs": [],
   "source": [
    "regressors = {\n",
    "    \n",
    "    'Random Forest' : RandomForestRegressor(),\n",
    "    \n",
    "}\n",
    "\n",
    "results=pd.DataFrame(columns=['MAE','MSE', 'RMSE', 'R2-score'])\n",
    "\n",
    "for method,func in regressors.items():\n",
    "    model = func.fit(X_train,y_train)\n",
    "    pred = model.predict(X_test)\n",
    "    results.loc[method]= [np.round(mean_absolute_error(y_test,pred),3),\n",
    "                          np.round(mean_squared_error(y_test,pred),3),\n",
    "                          np.sqrt(mean_squared_error(y_test,pred)),\n",
    "                          np.round(r2_score(y_test,pred),3)\n",
    "                          \n",
    "                         ]"
   ]
  },
  {
   "cell_type": "code",
   "execution_count": 50,
   "id": "64a2fbe3",
   "metadata": {},
   "outputs": [
    {
     "data": {
      "text/html": [
       "<div>\n",
       "<style scoped>\n",
       "    .dataframe tbody tr th:only-of-type {\n",
       "        vertical-align: middle;\n",
       "    }\n",
       "\n",
       "    .dataframe tbody tr th {\n",
       "        vertical-align: top;\n",
       "    }\n",
       "\n",
       "    .dataframe thead th {\n",
       "        text-align: right;\n",
       "    }\n",
       "</style>\n",
       "<table border=\"1\" class=\"dataframe\">\n",
       "  <thead>\n",
       "    <tr style=\"text-align: right;\">\n",
       "      <th></th>\n",
       "      <th>MAE</th>\n",
       "      <th>MSE</th>\n",
       "      <th>RMSE</th>\n",
       "      <th>R2-score</th>\n",
       "    </tr>\n",
       "  </thead>\n",
       "  <tbody>\n",
       "    <tr>\n",
       "      <th>Random Forest</th>\n",
       "      <td>2363.828</td>\n",
       "      <td>1.564928e+07</td>\n",
       "      <td>3955.917519</td>\n",
       "      <td>0.897</td>\n",
       "    </tr>\n",
       "  </tbody>\n",
       "</table>\n",
       "</div>"
      ],
      "text/plain": [
       "                    MAE           MSE         RMSE  R2-score\n",
       "Random Forest  2363.828  1.564928e+07  3955.917519     0.897"
      ]
     },
     "execution_count": 50,
     "metadata": {},
     "output_type": "execute_result"
    }
   ],
   "source": [
    "results"
   ]
  },
  {
   "cell_type": "markdown",
   "id": "b0be4346",
   "metadata": {},
   "source": [
    "# Cross - Validation of the model"
   ]
  },
  {
   "cell_type": "code",
   "execution_count": 51,
   "id": "39515575",
   "metadata": {},
   "outputs": [],
   "source": [
    "rf = RandomForestRegressor()\n",
    "rf.fit(X_train,y_train)\n",
    "y_pred = rf.predict(X_test)\n",
    "lss  = r2_score(y_test,y_pred)"
   ]
  },
  {
   "cell_type": "code",
   "execution_count": 52,
   "id": "92711749",
   "metadata": {},
   "outputs": [
    {
     "name": "stdout",
     "output_type": "stream",
     "text": [
      "At cv:- 22\n",
      "Cross validation score is:- 81.69224624475032\n",
      "accuracy_score is:- 89.78346431343037\n",
      "\n",
      "\n",
      "At cv:- 23\n",
      "Cross validation score is:- 81.84098431017894\n",
      "accuracy_score is:- 89.78346431343037\n",
      "\n",
      "\n",
      "At cv:- 24\n",
      "Cross validation score is:- 82.35026354255952\n",
      "accuracy_score is:- 89.78346431343037\n",
      "\n",
      "\n",
      "At cv:- 25\n",
      "Cross validation score is:- 82.14869570994766\n",
      "accuracy_score is:- 89.78346431343037\n",
      "\n",
      "\n",
      "At cv:- 26\n",
      "Cross validation score is:- 82.29609322533487\n",
      "accuracy_score is:- 89.78346431343037\n",
      "\n",
      "\n",
      "At cv:- 27\n",
      "Cross validation score is:- 82.07096219959263\n",
      "accuracy_score is:- 89.78346431343037\n",
      "\n",
      "\n",
      "At cv:- 28\n",
      "Cross validation score is:- 81.27234496831096\n",
      "accuracy_score is:- 89.78346431343037\n",
      "\n",
      "\n",
      "At cv:- 29\n",
      "Cross validation score is:- 82.34245718215367\n",
      "accuracy_score is:- 89.78346431343037\n",
      "\n",
      "\n"
     ]
    }
   ],
   "source": [
    "for j in range(22,30):\n",
    "    isscore = cross_val_score(rf,x,y,cv=j)\n",
    "    lsc = isscore.mean()\n",
    "    print(\"At cv:-\",j)\n",
    "    print('Cross validation score is:-',lsc*100)\n",
    "    print('accuracy_score is:-',lss*100)\n",
    "    print('\\n')"
   ]
  },
  {
   "cell_type": "code",
   "execution_count": 64,
   "id": "db6cfa87",
   "metadata": {},
   "outputs": [
    {
     "name": "stdout",
     "output_type": "stream",
     "text": [
      "The cv score is:  0.8197531289512127 \n",
      "The accuracy score is:  0.9165863905780187\n"
     ]
    }
   ],
   "source": [
    "lsscore_selected = cross_val_score(rf,x,y,cv=22).mean()\n",
    "print(\"The cv score is: \",lsscore_selected,\"\\nThe accuracy score is: \",lss)"
   ]
  },
  {
   "cell_type": "markdown",
   "id": "df63a605",
   "metadata": {},
   "source": [
    "# Gradient Boosting Regressor"
   ]
  },
  {
   "cell_type": "code",
   "execution_count": 103,
   "id": "4d69540d",
   "metadata": {},
   "outputs": [],
   "source": [
    "# finding Best Random state\n",
    "maxAccu=0\n",
    "maxRS=0\n",
    "\n",
    "for i in range(1, 100):\n",
    "    X_train, X_test, y_train, y_test = train_test_split(x, y, test_size=0.2, random_state=i)\n",
    "    gbr = GradientBoostingRegressor()\n",
    "    gbr.fit(X_train, y_train)\n",
    "    pred = gbr.predict(X_test)\n",
    "    r2 = r2_score(y_test, pred)\n",
    "    \n",
    "    if r2>maxAccu:\n",
    "        maxAccu=r2\n",
    "        maxRS=i"
   ]
  },
  {
   "cell_type": "code",
   "execution_count": 104,
   "id": "816c9e27",
   "metadata": {},
   "outputs": [
    {
     "name": "stdout",
     "output_type": "stream",
     "text": [
      "Best r2 score is 0.9165863905780187 on Random State 94\n"
     ]
    }
   ],
   "source": [
    "print(\"Best r2 score is\", maxAccu,\"on Random State\", maxRS)"
   ]
  },
  {
   "cell_type": "code",
   "execution_count": 109,
   "id": "ef321ab7",
   "metadata": {},
   "outputs": [],
   "source": [
    "# Splitting the data into train and test\n",
    "X_train, X_test, y_train, y_test = train_test_split(x, y, test_size=0.2, random_state=94)"
   ]
  },
  {
   "cell_type": "code",
   "execution_count": 110,
   "id": "677202ad",
   "metadata": {},
   "outputs": [],
   "source": [
    "regressors = {\n",
    "    \n",
    "    'Gradient Boost Regressor' : GradientBoostingRegressor(),\n",
    "    \n",
    "}\n",
    "\n",
    "results=pd.DataFrame(columns=['MAE','MSE', 'RMSE', 'R2-score'])\n",
    "\n",
    "for method,func in regressors.items():\n",
    "    model = func.fit(X_train,y_train)\n",
    "    pred = model.predict(X_test)\n",
    "    results.loc[method]= [np.round(mean_absolute_error(y_test,pred),3),\n",
    "                          np.round(mean_squared_error(y_test,pred),3),\n",
    "                          np.sqrt(mean_squared_error(y_test,pred)),\n",
    "                          np.round(r2_score(y_test,pred),3)\n",
    "                          \n",
    "                         ]"
   ]
  },
  {
   "cell_type": "code",
   "execution_count": 111,
   "id": "40bc98fb",
   "metadata": {},
   "outputs": [
    {
     "data": {
      "text/html": [
       "<div>\n",
       "<style scoped>\n",
       "    .dataframe tbody tr th:only-of-type {\n",
       "        vertical-align: middle;\n",
       "    }\n",
       "\n",
       "    .dataframe tbody tr th {\n",
       "        vertical-align: top;\n",
       "    }\n",
       "\n",
       "    .dataframe thead th {\n",
       "        text-align: right;\n",
       "    }\n",
       "</style>\n",
       "<table border=\"1\" class=\"dataframe\">\n",
       "  <thead>\n",
       "    <tr style=\"text-align: right;\">\n",
       "      <th></th>\n",
       "      <th>MAE</th>\n",
       "      <th>MSE</th>\n",
       "      <th>RMSE</th>\n",
       "      <th>R2-score</th>\n",
       "    </tr>\n",
       "  </thead>\n",
       "  <tbody>\n",
       "    <tr>\n",
       "      <th>Gradient Boost Regressor</th>\n",
       "      <td>2221.579</td>\n",
       "      <td>12617018.64</td>\n",
       "      <td>3552.04429</td>\n",
       "      <td>0.917</td>\n",
       "    </tr>\n",
       "  </tbody>\n",
       "</table>\n",
       "</div>"
      ],
      "text/plain": [
       "                               MAE          MSE        RMSE  R2-score\n",
       "Gradient Boost Regressor  2221.579  12617018.64  3552.04429     0.917"
      ]
     },
     "execution_count": 111,
     "metadata": {},
     "output_type": "execute_result"
    }
   ],
   "source": [
    "results"
   ]
  },
  {
   "cell_type": "markdown",
   "id": "b7f525e0",
   "metadata": {},
   "source": [
    "# Cross-validation of the model"
   ]
  },
  {
   "cell_type": "code",
   "execution_count": 112,
   "id": "a56d6e01",
   "metadata": {},
   "outputs": [],
   "source": [
    "gbr = GradientBoostingRegressor()\n",
    "gbr.fit(X_train,y_train)\n",
    "y_pred = gbr.predict(X_test)\n",
    "from sklearn.model_selection import cross_val_score\n",
    "lss  = r2_score(y_test,y_pred)"
   ]
  },
  {
   "cell_type": "code",
   "execution_count": 113,
   "id": "76e3bd50",
   "metadata": {},
   "outputs": [
    {
     "name": "stdout",
     "output_type": "stream",
     "text": [
      "At cv:- 20\n",
      "Cross validation score is:- 85.07543381780906\n",
      "accuracy_score is:- 91.68512369243824\n",
      "\n",
      "\n",
      "At cv:- 21\n",
      "Cross validation score is:- 84.56185113776888\n",
      "accuracy_score is:- 91.68512369243824\n",
      "\n",
      "\n",
      "At cv:- 22\n",
      "Cross validation score is:- 84.13779396292078\n",
      "accuracy_score is:- 91.68512369243824\n",
      "\n",
      "\n",
      "At cv:- 23\n",
      "Cross validation score is:- 84.33022430213093\n",
      "accuracy_score is:- 91.68512369243824\n",
      "\n",
      "\n",
      "At cv:- 24\n",
      "Cross validation score is:- 84.78585715077246\n",
      "accuracy_score is:- 91.68512369243824\n",
      "\n",
      "\n",
      "At cv:- 25\n",
      "Cross validation score is:- 84.51991574322636\n",
      "accuracy_score is:- 91.68512369243824\n",
      "\n",
      "\n",
      "At cv:- 26\n",
      "Cross validation score is:- 84.72110401411447\n",
      "accuracy_score is:- 91.68512369243824\n",
      "\n",
      "\n",
      "At cv:- 27\n",
      "Cross validation score is:- 84.63777212508865\n",
      "accuracy_score is:- 91.68512369243824\n",
      "\n",
      "\n",
      "At cv:- 28\n",
      "Cross validation score is:- 83.71740220081224\n",
      "accuracy_score is:- 91.68512369243824\n",
      "\n",
      "\n",
      "At cv:- 29\n",
      "Cross validation score is:- 84.68962819839103\n",
      "accuracy_score is:- 91.68512369243824\n",
      "\n",
      "\n"
     ]
    }
   ],
   "source": [
    "for j in range(20,30):\n",
    "    isscore = cross_val_score(gbr,x,y,cv=j)\n",
    "    lsc = isscore.mean()\n",
    "    print(\"At cv:-\",j)\n",
    "    print('Cross validation score is:-',lsc*100)\n",
    "    print('accuracy_score is:-',lss*100)\n",
    "    print('\\n')"
   ]
  },
  {
   "cell_type": "code",
   "execution_count": 114,
   "id": "6821a66f",
   "metadata": {},
   "outputs": [
    {
     "name": "stdout",
     "output_type": "stream",
     "text": [
      "The cv score is:  0.8471978817937209 \n",
      "The accuracy score is:  0.9168512369243824\n"
     ]
    }
   ],
   "source": [
    "lsscore_selected = cross_val_score(gbr,x,y,cv=26).mean()\n",
    "print(\"The cv score is: \",lsscore_selected,\"\\nThe accuracy score is: \",lss)"
   ]
  },
  {
   "cell_type": "markdown",
   "id": "328f66da",
   "metadata": {},
   "source": [
    "# KNeighbors Regressor"
   ]
  },
  {
   "cell_type": "code",
   "execution_count": 74,
   "id": "3a4f5893",
   "metadata": {},
   "outputs": [
    {
     "name": "stdout",
     "output_type": "stream",
     "text": [
      "Best r2 score is 0.8407623514550446 on Random State 164\n"
     ]
    }
   ],
   "source": [
    "# finding Best Random state\n",
    "maxAccu=0\n",
    "maxRS=0\n",
    "\n",
    "for i in range(100, 200):\n",
    "    X_train, X_test, y_train, y_test = train_test_split(x, y, test_size=0.2, random_state=i)\n",
    "    knn = KNeighborsRegressor()\n",
    "    knn.fit(X_train, y_train)\n",
    "    pred = knn.predict(X_test)\n",
    "    r2 = r2_score(y_test, pred)\n",
    "    \n",
    "    if r2>maxAccu:\n",
    "        maxAccu=r2\n",
    "        maxRS=i\n",
    "\n",
    "print(\"Best r2 score is\", maxAccu,\"on Random State\", maxRS)"
   ]
  },
  {
   "cell_type": "code",
   "execution_count": 75,
   "id": "0e1e826e",
   "metadata": {},
   "outputs": [],
   "source": [
    "# Splitting the data into train and test\n",
    "X_train, X_test, y_train, y_test = train_test_split(x, y, test_size=0.2, random_state=164)"
   ]
  },
  {
   "cell_type": "code",
   "execution_count": 76,
   "id": "4d03e3a8",
   "metadata": {},
   "outputs": [],
   "source": [
    "regressors = {\n",
    "    \n",
    "    'KNN Regressor': KNeighborsRegressor()\n",
    "}\n",
    "\n",
    "results=pd.DataFrame(columns=['MAE','MSE', 'RMSE', 'R2-score'])\n",
    "\n",
    "for method,func in regressors.items():\n",
    "    model = func.fit(X_train,y_train)\n",
    "    pred = model.predict(X_test)\n",
    "    results.loc[method]= [np.round(mean_absolute_error(y_test,pred),3),\n",
    "                          np.round(mean_squared_error(y_test,pred),3),\n",
    "                          np.sqrt(mean_squared_error(y_test,pred)),\n",
    "                          np.round(r2_score(y_test,pred),3)\n",
    "                          \n",
    "                         ]"
   ]
  },
  {
   "cell_type": "code",
   "execution_count": 77,
   "id": "22913d4b",
   "metadata": {},
   "outputs": [
    {
     "data": {
      "text/html": [
       "<div>\n",
       "<style scoped>\n",
       "    .dataframe tbody tr th:only-of-type {\n",
       "        vertical-align: middle;\n",
       "    }\n",
       "\n",
       "    .dataframe tbody tr th {\n",
       "        vertical-align: top;\n",
       "    }\n",
       "\n",
       "    .dataframe thead th {\n",
       "        text-align: right;\n",
       "    }\n",
       "</style>\n",
       "<table border=\"1\" class=\"dataframe\">\n",
       "  <thead>\n",
       "    <tr style=\"text-align: right;\">\n",
       "      <th></th>\n",
       "      <th>MAE</th>\n",
       "      <th>MSE</th>\n",
       "      <th>RMSE</th>\n",
       "      <th>R2-score</th>\n",
       "    </tr>\n",
       "  </thead>\n",
       "  <tbody>\n",
       "    <tr>\n",
       "      <th>KNN Regressor</th>\n",
       "      <td>3040.9</td>\n",
       "      <td>2.641417e+07</td>\n",
       "      <td>5139.471912</td>\n",
       "      <td>0.841</td>\n",
       "    </tr>\n",
       "  </tbody>\n",
       "</table>\n",
       "</div>"
      ],
      "text/plain": [
       "                  MAE           MSE         RMSE  R2-score\n",
       "KNN Regressor  3040.9  2.641417e+07  5139.471912     0.841"
      ]
     },
     "execution_count": 77,
     "metadata": {},
     "output_type": "execute_result"
    }
   ],
   "source": [
    "results"
   ]
  },
  {
   "cell_type": "markdown",
   "id": "d8e05126",
   "metadata": {},
   "source": [
    "# XGBRegressor"
   ]
  },
  {
   "cell_type": "code",
   "execution_count": 86,
   "id": "9c22b43d",
   "metadata": {},
   "outputs": [
    {
     "name": "stdout",
     "output_type": "stream",
     "text": [
      "Best r2 score is 0.8844563091647251 on Random State 94\n"
     ]
    }
   ],
   "source": [
    "# finding Best Random state\n",
    "maxAccu=0\n",
    "maxRS=0\n",
    "\n",
    "for i in range(0, 100):\n",
    "    X_train, X_test, y_train, y_test = train_test_split(x, y, test_size=0.2, random_state=i)\n",
    "    xgb = XGBRegressor()\n",
    "    xgb.fit(X_train, y_train)\n",
    "    pred = xgb.predict(X_test)\n",
    "    r2 = r2_score(y_test, pred)\n",
    "    \n",
    "    if r2>maxAccu:\n",
    "        maxAccu=r2\n",
    "        maxRS=i\n",
    "\n",
    "print(\"Best r2 score is\", maxAccu,\"on Random State\", maxRS)"
   ]
  },
  {
   "cell_type": "code",
   "execution_count": 87,
   "id": "ae0384b2",
   "metadata": {},
   "outputs": [],
   "source": [
    "# Splitting the data into train and test\n",
    "X_train, X_test, y_train, y_test = train_test_split(x, y, test_size=0.2, random_state=94)"
   ]
  },
  {
   "cell_type": "code",
   "execution_count": 88,
   "id": "6a16b591",
   "metadata": {},
   "outputs": [],
   "source": [
    "regressors = {\n",
    "    \n",
    "    'XG Boost Regressor' : XGBRegressor()\n",
    "    \n",
    "}\n",
    "\n",
    "results=pd.DataFrame(columns=['MAE','MSE', 'RMSE', 'R2-score'])\n",
    "\n",
    "for method,func in regressors.items():\n",
    "    model = func.fit(X_train,y_train)\n",
    "    pred = model.predict(X_test)\n",
    "    results.loc[method]= [np.round(mean_absolute_error(y_test,pred),3),\n",
    "                          np.round(mean_squared_error(y_test,pred),3),\n",
    "                          np.sqrt(mean_squared_error(y_test,pred)),\n",
    "                          np.round(r2_score(y_test,pred),3)\n",
    "                          \n",
    "                         ]"
   ]
  },
  {
   "cell_type": "code",
   "execution_count": 89,
   "id": "3adb8ba4",
   "metadata": {},
   "outputs": [
    {
     "data": {
      "text/html": [
       "<div>\n",
       "<style scoped>\n",
       "    .dataframe tbody tr th:only-of-type {\n",
       "        vertical-align: middle;\n",
       "    }\n",
       "\n",
       "    .dataframe tbody tr th {\n",
       "        vertical-align: top;\n",
       "    }\n",
       "\n",
       "    .dataframe thead th {\n",
       "        text-align: right;\n",
       "    }\n",
       "</style>\n",
       "<table border=\"1\" class=\"dataframe\">\n",
       "  <thead>\n",
       "    <tr style=\"text-align: right;\">\n",
       "      <th></th>\n",
       "      <th>MAE</th>\n",
       "      <th>MSE</th>\n",
       "      <th>RMSE</th>\n",
       "      <th>R2-score</th>\n",
       "    </tr>\n",
       "  </thead>\n",
       "  <tbody>\n",
       "    <tr>\n",
       "      <th>XG Boost Regressor</th>\n",
       "      <td>2568.913</td>\n",
       "      <td>1.748359e+07</td>\n",
       "      <td>4181.338259</td>\n",
       "      <td>0.884</td>\n",
       "    </tr>\n",
       "  </tbody>\n",
       "</table>\n",
       "</div>"
      ],
      "text/plain": [
       "                         MAE           MSE         RMSE  R2-score\n",
       "XG Boost Regressor  2568.913  1.748359e+07  4181.338259     0.884"
      ]
     },
     "execution_count": 89,
     "metadata": {},
     "output_type": "execute_result"
    }
   ],
   "source": [
    "results"
   ]
  },
  {
   "cell_type": "markdown",
   "id": "237d9d50",
   "metadata": {},
   "source": [
    "# Cross-validation of the model"
   ]
  },
  {
   "cell_type": "code",
   "execution_count": 90,
   "id": "3297bd69",
   "metadata": {},
   "outputs": [],
   "source": [
    "xgb = XGBRegressor()\n",
    "xgb.fit(X_train,y_train)\n",
    "\n",
    "y_pred = xgb.predict(X_test)\n",
    "lss  = r2_score(y_test,y_pred)"
   ]
  },
  {
   "cell_type": "code",
   "execution_count": 91,
   "id": "2548b3d1",
   "metadata": {},
   "outputs": [
    {
     "name": "stdout",
     "output_type": "stream",
     "text": [
      "At cv:- 10\n",
      "Cross validation score is:- 80.4793313089211\n",
      "accuracy_score is:- 88.44563091647251\n",
      "\n",
      "\n",
      "At cv:- 11\n",
      "Cross validation score is:- 80.11111562272866\n",
      "accuracy_score is:- 88.44563091647251\n",
      "\n",
      "\n",
      "At cv:- 12\n",
      "Cross validation score is:- 79.79450105662268\n",
      "accuracy_score is:- 88.44563091647251\n",
      "\n",
      "\n",
      "At cv:- 13\n",
      "Cross validation score is:- 80.64362997580041\n",
      "accuracy_score is:- 88.44563091647251\n",
      "\n",
      "\n",
      "At cv:- 14\n",
      "Cross validation score is:- 80.0428037621537\n",
      "accuracy_score is:- 88.44563091647251\n",
      "\n",
      "\n",
      "At cv:- 15\n",
      "Cross validation score is:- 80.37854969924479\n",
      "accuracy_score is:- 88.44563091647251\n",
      "\n",
      "\n",
      "At cv:- 16\n",
      "Cross validation score is:- 79.80519784229699\n",
      "accuracy_score is:- 88.44563091647251\n",
      "\n",
      "\n",
      "At cv:- 17\n",
      "Cross validation score is:- 80.12359518759438\n",
      "accuracy_score is:- 88.44563091647251\n",
      "\n",
      "\n",
      "At cv:- 18\n",
      "Cross validation score is:- 79.53020540097431\n",
      "accuracy_score is:- 88.44563091647251\n",
      "\n",
      "\n",
      "At cv:- 19\n",
      "Cross validation score is:- 80.04943033799442\n",
      "accuracy_score is:- 88.44563091647251\n",
      "\n",
      "\n"
     ]
    }
   ],
   "source": [
    "for j in range(10,20):\n",
    "    isscore = cross_val_score(xgb,x,y,cv=j)\n",
    "    lsc = isscore.mean()\n",
    "    print(\"At cv:-\",j)\n",
    "    print('Cross validation score is:-',lsc*100)\n",
    "    print('accuracy_score is:-',lss*100)\n",
    "    print('\\n')"
   ]
  },
  {
   "cell_type": "code",
   "execution_count": 92,
   "id": "11d9c32f",
   "metadata": {},
   "outputs": [
    {
     "name": "stdout",
     "output_type": "stream",
     "text": [
      "The cv score is:  0.8064362997580041 \n",
      "The accuracy score is:  0.8844563091647251\n"
     ]
    }
   ],
   "source": [
    "from sklearn.model_selection import cross_val_score\n",
    "lsscore_selected = cross_val_score(xgb,x,y,cv=13).mean()\n",
    "print(\"The cv score is: \",lsscore_selected,\"\\nThe accuracy score is: \",lss)"
   ]
  },
  {
   "cell_type": "markdown",
   "id": "d33cf8d1",
   "metadata": {},
   "source": [
    "# Hyper parameter tuning"
   ]
  },
  {
   "cell_type": "markdown",
   "id": "11322460",
   "metadata": {},
   "source": [
    "Here we select Gradient Boost Classifier For Tune The paramete"
   ]
  },
  {
   "cell_type": "code",
   "execution_count": 115,
   "id": "1c235785",
   "metadata": {},
   "outputs": [
    {
     "name": "stdout",
     "output_type": "stream",
     "text": [
      "The cv score is:  0.8472336881579222 \n",
      "The accuracy score is:  0.9168512369243824\n"
     ]
    }
   ],
   "source": [
    "lsscore_selected = cross_val_score(gbr,x,y,cv=26).mean()\n",
    "print(\"The cv score is: \",lsscore_selected,\"\\nThe accuracy score is: \",lss)"
   ]
  },
  {
   "cell_type": "code",
   "execution_count": 116,
   "id": "095db919",
   "metadata": {},
   "outputs": [],
   "source": [
    "from sklearn.model_selection import GridSearchCV"
   ]
  },
  {
   "cell_type": "code",
   "execution_count": 117,
   "id": "29b727ea",
   "metadata": {},
   "outputs": [
    {
     "data": {
      "text/html": [
       "<div>\n",
       "<style scoped>\n",
       "    .dataframe tbody tr th:only-of-type {\n",
       "        vertical-align: middle;\n",
       "    }\n",
       "\n",
       "    .dataframe tbody tr th {\n",
       "        vertical-align: top;\n",
       "    }\n",
       "\n",
       "    .dataframe thead th {\n",
       "        text-align: right;\n",
       "    }\n",
       "</style>\n",
       "<table border=\"1\" class=\"dataframe\">\n",
       "  <thead>\n",
       "    <tr style=\"text-align: right;\">\n",
       "      <th></th>\n",
       "      <th>MAE</th>\n",
       "      <th>MSE</th>\n",
       "      <th>RMSE</th>\n",
       "      <th>R2-score</th>\n",
       "    </tr>\n",
       "  </thead>\n",
       "  <tbody>\n",
       "    <tr>\n",
       "      <th>Gradient Boost Regressor</th>\n",
       "      <td>2221.579</td>\n",
       "      <td>12617018.64</td>\n",
       "      <td>3552.04429</td>\n",
       "      <td>0.917</td>\n",
       "    </tr>\n",
       "  </tbody>\n",
       "</table>\n",
       "</div>"
      ],
      "text/plain": [
       "                               MAE          MSE        RMSE  R2-score\n",
       "Gradient Boost Regressor  2221.579  12617018.64  3552.04429     0.917"
      ]
     },
     "execution_count": 117,
     "metadata": {},
     "output_type": "execute_result"
    }
   ],
   "source": [
    "results"
   ]
  },
  {
   "cell_type": "code",
   "execution_count": 140,
   "id": "8a5d7aad",
   "metadata": {},
   "outputs": [],
   "source": [
    "gbr=GradientBoostingRegressor()"
   ]
  },
  {
   "cell_type": "code",
   "execution_count": 141,
   "id": "809e4b88",
   "metadata": {},
   "outputs": [],
   "source": [
    "parameters = {'n_estimators' : [100,200 ],\n",
    "              \n",
    "             'max_depth':range(4,8),\n",
    "             'learning_rate':[0.1,0.3],\n",
    "              'min_samples_split':range(4,8)\n",
    "             }"
   ]
  },
  {
   "cell_type": "code",
   "execution_count": 142,
   "id": "b58c7d3f",
   "metadata": {},
   "outputs": [
    {
     "name": "stdout",
     "output_type": "stream",
     "text": [
      "Best Params  {'learning_rate': 0.1, 'max_depth': 4, 'min_samples_split': 4, 'n_estimators': 100}\n"
     ]
    }
   ],
   "source": [
    "grd = GridSearchCV(gbr,param_grid = parameters)\n",
    "grd.fit(X_train,y_train)\n",
    "\n",
    "print('Best Params ',grd.best_params_)"
   ]
  },
  {
   "cell_type": "code",
   "execution_count": 146,
   "id": "187e00f3",
   "metadata": {},
   "outputs": [
    {
     "name": "stdout",
     "output_type": "stream",
     "text": [
      "[15:08:09] WARNING: C:/buildkite-agent/builds/buildkite-windows-cpu-autoscaling-group-i-030221e36e1a46bfb-1/xgboost/xgboost-ci-windows/src/learner.cc:767: \n",
      "Parameters: { \"min_samples_leaf\", \"min_samples_split\" } are not used.\n",
      "\n"
     ]
    },
    {
     "data": {
      "text/plain": [
       "0.9179376704479705"
      ]
     },
     "execution_count": 146,
     "metadata": {},
     "output_type": "execute_result"
    }
   ],
   "source": [
    "gbr = XGBRegressor(learning_rate= 0.1, max_depth= 4, min_samples_leaf= 5, n_estimators= 100,min_samples_split=4)\n",
    "\n",
    "gbr.fit(X_train,y_train)\n",
    "\n",
    "pred = gbr.predict(X_test)\n",
    "\n",
    "r2_score(y_test,pred)"
   ]
  },
  {
   "cell_type": "markdown",
   "id": "d0686ec7",
   "metadata": {},
   "source": [
    "# Plot Actual VS Predicted"
   ]
  },
  {
   "cell_type": "code",
   "execution_count": 147,
   "id": "eb6384f7",
   "metadata": {},
   "outputs": [
    {
     "data": {
      "image/png": "[encoded data removed]",
      "text/plain": [
       "<Figure size 800x600 with 1 Axes>"
      ]
     },
     "metadata": {},
     "output_type": "display_data"
    }
   ],
   "source": [
    "plt.figure(figsize=(8,6))\n",
    "plt.scatter(x=y_test,y=pred)\n",
    "plt.plot(y_test,y_test)\n",
    "plt.xlabel('Actual Rainfall')\n",
    "plt.ylabel('Predicted Rainfall')\n",
    "plt.show()"
   ]
  },
  {
   "cell_type": "markdown",
   "id": "0f7566f9",
   "metadata": {},
   "source": [
    "So, Here we can see that we cover maximum data points near best fit line. "
   ]
  },
  {
   "cell_type": "code",
   "execution_count": null,
   "id": "19a66ff9",
   "metadata": {},
   "outputs": [],
   "source": []
  },
  {
   "cell_type": "code",
   "execution_count": null,
   "id": "41ab89e8",
   "metadata": {},
   "outputs": [],
   "source": []
  },
  {
   "cell_type": "markdown",
   "id": "3e16e5b0",
   "metadata": {},
   "source": [
    "# Conclusion"
   ]
  },
  {
   "cell_type": "code",
   "execution_count": 152,
   "id": "5ff048b4",
   "metadata": {},
   "outputs": [],
   "source": [
    "import pickle\n",
    "filename=('Medical Insurence')\n",
    "pickle.dump(gbr,open(filename,'wb'))"
   ]
  },
  {
   "cell_type": "code",
   "execution_count": 153,
   "id": "846d9781",
   "metadata": {},
   "outputs": [
    {
     "name": "stdout",
     "output_type": "stream",
     "text": [
      "91.79376704479705\n"
     ]
    }
   ],
   "source": [
    "loaded_model=pickle.load(open('Medical Insurence','rb'))\n",
    "result=loaded_model.score(X_test,y_test)\n",
    "print(result*100)"
   ]
  },
  {
   "cell_type": "code",
   "execution_count": 156,
   "id": "2a35b5fc",
   "metadata": {},
   "outputs": [
    {
     "data": {
      "text/html": [
       "<div>\n",
       "<style scoped>\n",
       "    .dataframe tbody tr th:only-of-type {\n",
       "        vertical-align: middle;\n",
       "    }\n",
       "\n",
       "    .dataframe tbody tr th {\n",
       "        vertical-align: top;\n",
       "    }\n",
       "\n",
       "    .dataframe thead th {\n",
       "        text-align: right;\n",
       "    }\n",
       "</style>\n",
       "<table border=\"1\" class=\"dataframe\">\n",
       "  <thead>\n",
       "    <tr style=\"text-align: right;\">\n",
       "      <th></th>\n",
       "      <th>0</th>\n",
       "      <th>1</th>\n",
       "      <th>2</th>\n",
       "      <th>3</th>\n",
       "      <th>4</th>\n",
       "      <th>5</th>\n",
       "      <th>6</th>\n",
       "      <th>7</th>\n",
       "      <th>8</th>\n",
       "      <th>9</th>\n",
       "      <th>...</th>\n",
       "      <th>1056</th>\n",
       "      <th>1057</th>\n",
       "      <th>1058</th>\n",
       "      <th>1059</th>\n",
       "      <th>1060</th>\n",
       "      <th>1061</th>\n",
       "      <th>1062</th>\n",
       "      <th>1063</th>\n",
       "      <th>1064</th>\n",
       "      <th>1065</th>\n",
       "    </tr>\n",
       "  </thead>\n",
       "  <tbody>\n",
       "    <tr>\n",
       "      <th>predicted</th>\n",
       "      <td>1791.409058</td>\n",
       "      <td>4460.409668</td>\n",
       "      <td>13653.454102</td>\n",
       "      <td>2898.997559</td>\n",
       "      <td>6040.553223</td>\n",
       "      <td>5404.845703</td>\n",
       "      <td>13909.916992</td>\n",
       "      <td>10289.632812</td>\n",
       "      <td>17993.220703</td>\n",
       "      <td>17026.859375</td>\n",
       "      <td>...</td>\n",
       "      <td>2356.369141</td>\n",
       "      <td>8249.790039</td>\n",
       "      <td>14605.114258</td>\n",
       "      <td>5881.732422</td>\n",
       "      <td>2588.614014</td>\n",
       "      <td>27270.748047</td>\n",
       "      <td>8474.364258</td>\n",
       "      <td>12601.697266</td>\n",
       "      <td>9362.220703</td>\n",
       "      <td>10173.628906</td>\n",
       "    </tr>\n",
       "    <tr>\n",
       "      <th>original</th>\n",
       "      <td>9562.411133</td>\n",
       "      <td>6803.056152</td>\n",
       "      <td>16571.714844</td>\n",
       "      <td>35551.917969</td>\n",
       "      <td>38658.457031</td>\n",
       "      <td>9194.378906</td>\n",
       "      <td>16093.105469</td>\n",
       "      <td>49071.929688</td>\n",
       "      <td>41201.750000</td>\n",
       "      <td>8930.976562</td>\n",
       "      <td>...</td>\n",
       "      <td>NaN</td>\n",
       "      <td>NaN</td>\n",
       "      <td>NaN</td>\n",
       "      <td>NaN</td>\n",
       "      <td>NaN</td>\n",
       "      <td>NaN</td>\n",
       "      <td>NaN</td>\n",
       "      <td>NaN</td>\n",
       "      <td>NaN</td>\n",
       "      <td>NaN</td>\n",
       "    </tr>\n",
       "  </tbody>\n",
       "</table>\n",
       "<p>2 rows × 1066 columns</p>\n",
       "</div>"
      ],
      "text/plain": [
       "                  0            1             2             3             4     \\\n",
       "predicted  1791.409058  4460.409668  13653.454102   2898.997559   6040.553223   \n",
       "original   9562.411133  6803.056152  16571.714844  35551.917969  38658.457031   \n",
       "\n",
       "                  5             6             7             8     \\\n",
       "predicted  5404.845703  13909.916992  10289.632812  17993.220703   \n",
       "original   9194.378906  16093.105469  49071.929688  41201.750000   \n",
       "\n",
       "                   9     ...         1056         1057          1058  \\\n",
       "predicted  17026.859375  ...  2356.369141  8249.790039  14605.114258   \n",
       "original    8930.976562  ...          NaN          NaN           NaN   \n",
       "\n",
       "                  1059         1060          1061         1062          1063  \\\n",
       "predicted  5881.732422  2588.614014  27270.748047  8474.364258  12601.697266   \n",
       "original           NaN          NaN           NaN          NaN           NaN   \n",
       "\n",
       "                  1064          1065  \n",
       "predicted  9362.220703  10173.628906  \n",
       "original           NaN           NaN  \n",
       "\n",
       "[2 rows x 1066 columns]"
      ]
     },
     "execution_count": 156,
     "metadata": {},
     "output_type": "execute_result"
    }
   ],
   "source": [
    "conclusion=pd.DataFrame([loaded_model.predict(X_train)[:],pred[:]],index=['predicted','original'])\n",
    "conclusion"
   ]
  },
  {
   "cell_type": "code",
   "execution_count": null,
   "id": "38e252ad",
   "metadata": {},
   "outputs": [],
   "source": [
    "#Student of DataScience\n",
    "#Student of DataTrained- Saurav\n",
    "#Date-19-10-22\n",
    "#Time - 21:12"
   ]
  },
  {
   "cell_type": "code",
   "execution_count": null,
   "id": "81d0ad98",
   "metadata": {},
   "outputs": [],
   "source": []
  }
 ],
 "metadata": {
  "kernelspec": {
   "display_name": "Python 3 (ipykernel)",
   "language": "python",
   "name": "python3"
  },
  "language_info": {
   "codemirror_mode": {
    "name": "ipython",
    "version": 3
   },
   "file_extension": ".py",
   "mimetype": "text/x-python",
   "name": "python",
   "nbconvert_exporter": "python",
   "pygments_lexer": "ipython3",
   "version": "3.9.13"
  }
 },
 "nbformat": 4,
 "nbformat_minor": 5
}
